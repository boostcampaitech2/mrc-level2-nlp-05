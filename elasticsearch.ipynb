{
 "cells": [
  {
   "cell_type": "code",
   "execution_count": 31,
   "metadata": {},
   "outputs": [
    {
     "data": {
      "text/plain": [
       "{'context': Value(dtype='string', id=None),\n",
       " 'id': Value(dtype='string', id=None),\n",
       " 'question': Value(dtype='string', id=None)}"
      ]
     },
     "execution_count": 31,
     "metadata": {},
     "output_type": "execute_result"
    }
   ],
   "source": [
    "from datasets import load_metric, load_from_disk, Sequence, Value, Features, Dataset, DatasetDict\n",
    "f = Features(\n",
    "            {\n",
    "                \"context\": Value(dtype=\"string\", id=None),\n",
    "                \"id\": Value(dtype=\"string\", id=None),\n",
    "                \"question\": Value(dtype=\"string\", id=None),\n",
    "            }\n",
    "        )\n",
    "\n",
    "f"
   ]
  },
  {
   "cell_type": "code",
   "execution_count": 32,
   "metadata": {},
   "outputs": [],
   "source": [
    "df = pd.read_csv('ES_contest_main.csv')\n",
    "dataset = Dataset.from_pandas(df, features=f)"
   ]
  },
  {
   "cell_type": "code",
   "execution_count": 1,
   "metadata": {},
   "outputs": [],
   "source": [
    "# !apt-get update && apt-get install -y gnupg2\n",
    "# !wget -qO - https://artifacts.elastic.co/GPG-KEY-elasticsearch | apt-key add -\n",
    "# !apt-get install apt-transport-https\n",
    "# !echo \"deb https://artifacts.elastic.co/packages/7.x/apt stable main\" | tee /etc/apt/sources.list.d/elastic-7.x.lis\n",
    "# !apt-get update && apt-get install elasticsearch\n",
    "\n",
    "# # nori tokenizer 설치\n",
    "# !service elasticsearch start\n",
    "# !cd /usr/share/elasticsearch/\n",
    "# !bin/elasticsearch-plugin install analysis-nori\n",
    "# !service elasticsearch restart\n",
    "\n",
    "# # pip\n",
    "# !pip install elasticsearch"
   ]
  },
  {
   "cell_type": "code",
   "execution_count": 2,
   "id": "de676479-7790-4bbe-8b08-9ab2f36b4178",
   "metadata": {},
   "outputs": [],
   "source": [
    "# !python -m pip install elasticsearch\n",
    "# !wget https://artifacts.elastic.co/downloads/elasticsearch/elasticsearch-7.9.2-linux-x86_64.tar.gz -q\n",
    "# !tar -xzf elasticsearch-7.9.2-linux-x86_64.tar.gz\n",
    "# !chown -R daemon:daemon elasticsearch-7.9.2"
   ]
  },
  {
   "cell_type": "code",
   "execution_count": 3,
   "metadata": {},
   "outputs": [],
   "source": [
    "# import pandas as pd\n",
    "# import json\n",
    "\n",
    "# with open('/opt/ml/data/wikipedia_documents.json', 'r') as f:\n",
    "#         wiki_data = pd.DataFrame(json.load(f)).transpose()\n"
   ]
  },
  {
   "cell_type": "code",
   "execution_count": 4,
   "metadata": {},
   "outputs": [],
   "source": [
    "# wiki_data"
   ]
  },
  {
   "cell_type": "code",
   "execution_count": 5,
   "metadata": {},
   "outputs": [],
   "source": [
    "# with open('/opt/ml/data/wikipedia_documents.json', \"r\") as f:\n",
    "#         wiki = json.load(f)\n",
    "\n",
    "# wiki"
   ]
  },
  {
   "cell_type": "code",
   "execution_count": 6,
   "metadata": {},
   "outputs": [],
   "source": [
    "# path_to_elastic = '/opt/ml/code/elasticsearch-7.9.2/bin/elasticsearch'\n",
    "#     es_server = Popen([path_to_elastic],\n",
    "#                     stdout=PIPE, stderr=STDOUT,\n",
    "#                     preexec_fn=lambda: os.setuid(1)  # as daemon\n",
    "#                     )\n",
    "#     !sleep(30)\n",
    "\n",
    "#     config = {'host':'localhost', 'port':9200}\n",
    "#     es = Elasticsearch([config])"
   ]
  },
  {
   "cell_type": "code",
   "execution_count": 7,
   "id": "3d1bf513-bc70-45ec-9435-9575826ab65a",
   "metadata": {},
   "outputs": [],
   "source": [
    "# import os\n",
    "# from subprocess import Popen, PIPE, STDOUT\n",
    "# es_server = Popen(['elasticsearch-7.9.2/bin/elasticsearch'],\n",
    "#                    stdout=PIPE, stderr=STDOUT,\n",
    "#                    preexec_fn=lambda: os.setuid(1)  # as daemon\n",
    "#                   )\n",
    "# # wait until ES has started\n",
    "# ! sleep 30"
   ]
  },
  {
   "cell_type": "code",
   "execution_count": 8,
   "id": "5909295d-8f34-487d-b62b-1d96972645f2",
   "metadata": {},
   "outputs": [],
   "source": [
    "# ! /opt/ml/code/elasticsearch-7.9.2/bin/elasticsearch-plugin install analysis-nori"
   ]
  },
  {
   "cell_type": "code",
   "execution_count": 9,
   "id": "88a2f0f3-2cb8-46ba-97d8-e6bd5341509d",
   "metadata": {},
   "outputs": [],
   "source": [
    "import os\n",
    "from subprocess import Popen, PIPE, STDOUT\n",
    "es_server = Popen(['elasticsearch-7.9.2/bin/elasticsearch'],\n",
    "                   stdout=PIPE, stderr=STDOUT,\n",
    "                   preexec_fn=lambda: os.setuid(1)  # as daemon\n",
    "                  )\n",
    "# wait until ES has started\n",
    "! sleep 30"
   ]
  },
  {
   "cell_type": "code",
   "execution_count": 10,
   "id": "8f793fcb-171d-4b7f-ab84-9d86c0debdda",
   "metadata": {},
   "outputs": [
    {
     "data": {
      "text/plain": [
       "<Elasticsearch([{'host': 'localhost', 'port': 9200}])>"
      ]
     },
     "execution_count": 10,
     "metadata": {},
     "output_type": "execute_result"
    }
   ],
   "source": [
    "from elasticsearch import Elasticsearch\n",
    "es = Elasticsearch('localhost:9200')\n",
    "es"
   ]
  },
  {
   "cell_type": "code",
   "execution_count": 11,
   "id": "ddc04de1-6afc-49bb-8d5d-bfd2f3fd3181",
   "metadata": {},
   "outputs": [
    {
     "data": {
      "text/plain": [
       "{'name': '75f1965bd0f6',\n",
       " 'cluster_name': 'elasticsearch',\n",
       " 'cluster_uuid': '-Dt_W5UGTiCA0uuyzfGyKA',\n",
       " 'version': {'number': '7.9.2',\n",
       "  'build_flavor': 'default',\n",
       "  'build_type': 'tar',\n",
       "  'build_hash': 'd34da0ea4a966c4e49417f2da2f244e3e97b4e6e',\n",
       "  'build_date': '2020-09-23T00:45:33.626720Z',\n",
       "  'build_snapshot': False,\n",
       "  'lucene_version': '8.6.2',\n",
       "  'minimum_wire_compatibility_version': '6.8.0',\n",
       "  'minimum_index_compatibility_version': '6.0.0-beta1'},\n",
       " 'tagline': 'You Know, for Search'}"
      ]
     },
     "execution_count": 11,
     "metadata": {},
     "output_type": "execute_result"
    }
   ],
   "source": [
    "es.info()"
   ]
  },
  {
   "cell_type": "code",
   "execution_count": 12,
   "id": "f28cfa8a-8281-40f5-b54f-efe56b135e1a",
   "metadata": {},
   "outputs": [
    {
     "data": {
      "text/plain": [
       "{'document': {'aliases': {},\n",
       "  'mappings': {'properties': {'text': {'type': 'text',\n",
       "     'analyzer': 'my_analyzer',\n",
       "     'similarity': 'my_similarity'},\n",
       "    'title': {'type': 'text',\n",
       "     'analyzer': 'my_analyzer',\n",
       "     'similarity': 'my_similarity'}}},\n",
       "  'settings': {'index': {'number_of_shards': '1',\n",
       "    'provided_name': 'document',\n",
       "    'similarity': {'my_similarity': {'type': 'BM25'}},\n",
       "    'creation_date': '1635928325121',\n",
       "    'analysis': {'filter': {'my_shingle_f': {'type': 'shingle'}},\n",
       "     'analyzer': {'my_analyzer': {'filter': ['lowercase',\n",
       "        'my_shingle_f',\n",
       "        'nori_readingform',\n",
       "        'nori_number'],\n",
       "       'decompound_mode': 'mixed',\n",
       "       'type': 'custom',\n",
       "       'stopwords': '_korean_',\n",
       "       'tokenizer': 'nori_tokenizer'}}},\n",
       "    'number_of_replicas': '1',\n",
       "    'uuid': 'N99HqzlVSPCqQUpOHtVO1A',\n",
       "    'version': {'created': '7090299'}}}}}"
      ]
     },
     "execution_count": 12,
     "metadata": {},
     "output_type": "execute_result"
    }
   ],
   "source": [
    "es.indices.get('document')"
   ]
  },
  {
   "cell_type": "code",
   "execution_count": 13,
   "id": "0a34b338-0222-418f-8c99-d29ed2f73fdc",
   "metadata": {},
   "outputs": [],
   "source": [
    "import json\n",
    "import pandas as pd\n",
    "\n",
    "with open('/opt/ml/data/wikipedia_documents.json', 'r') as f:\n",
    "    wiki_data = pd.DataFrame(json.load(f)).transpose()"
   ]
  },
  {
   "cell_type": "code",
   "execution_count": 14,
   "id": "d6a7b4bd-07f2-4cad-90ad-9f5e5d0df396",
   "metadata": {},
   "outputs": [
    {
     "data": {
      "text/plain": [
       "<Elasticsearch([{'host': 'localhost', 'port': 9200}])>"
      ]
     },
     "execution_count": 14,
     "metadata": {},
     "output_type": "execute_result"
    }
   ],
   "source": [
    "es.indices.delete(index=\"document\", ignore=[400, 404])\n",
    "es"
   ]
  },
  {
   "cell_type": "code",
   "execution_count": 15,
   "metadata": {},
   "outputs": [],
   "source": [
    "from tqdm import tqdm\n",
    "mapping = {\n",
    "                      'settings':{\n",
    "                          'analysis':{\n",
    "                              'analyzer':{\n",
    "                                  'my_analyzer':{\n",
    "                                      \"type\": \"custom\",\n",
    "                                      'tokenizer':'nori_tokenizer',\n",
    "                                      'decompound_mode':'mixed',\n",
    "                                      'stopwords':'_korean_',\n",
    "                                      \"filter\": [\"lowercase\",\n",
    "                                                 \"my_shingle_f\",\n",
    "                                                 \"nori_readingform\",\n",
    "                                                 \"nori_number\"]\n",
    "                                  }\n",
    "                              },\n",
    "                              'filter':{\n",
    "                                  'my_shingle_f':{\n",
    "                                      \"type\": \"shingle\"\n",
    "                                  }\n",
    "                              }\n",
    "                          },\n",
    "                          'similarity':{\n",
    "                              'my_similarity':{\n",
    "                                  'type':'BM25',\n",
    "                              }\n",
    "                          }\n",
    "                      },\n",
    "                      'mappings':{\n",
    "                          'properties':{\n",
    "                              'title':{\n",
    "                                  'type':'text',\n",
    "                                  'analyzer':'my_analyzer',\n",
    "                                  'similarity':'my_similarity'\n",
    "                              },\n",
    "                              'text':{\n",
    "                                  'type':'text',\n",
    "                                  'analyzer':'my_analyzer',\n",
    "                                  'similarity':'my_similarity'\n",
    "                              }\n",
    "                          }\n",
    "                      }\n",
    "                  }"
   ]
  },
  {
   "cell_type": "code",
   "execution_count": 16,
   "metadata": {},
   "outputs": [],
   "source": [
    "import os\n",
    "\n",
    "# os.environ.setdefault(\"DJANGO_SETTINGS_MODULE\", \"code.settings\")\n",
    "\n"
   ]
  },
  {
   "cell_type": "code",
   "execution_count": 17,
   "metadata": {},
   "outputs": [],
   "source": [
    "from haystack.document_store.elasticsearch import ElasticsearchDocumentStore"
   ]
  },
  {
   "cell_type": "code",
   "execution_count": 18,
   "id": "275dbaf9-06b3-4bee-acfe-539cd02c7e5b",
   "metadata": {
    "tags": []
   },
   "outputs": [
    {
     "name": "stderr",
     "output_type": "stream",
     "text": [
      "11/03/2021 08:34:21 - INFO - elasticsearch -   HEAD http://localhost:9200/ [status:200 request:0.002s]\n",
      "11/03/2021 08:34:21 - INFO - elasticsearch -   PUT http://localhost:9200/document [status:200 request:0.089s]\n",
      "11/03/2021 08:34:21 - INFO - elasticsearch -   HEAD http://localhost:9200/label [status:200 request:0.001s]\n",
      "100%|██████████| 56737/56737 [00:00<00:00, 1017149.20it/s]\n",
      "11/03/2021 08:34:25 - INFO - elasticsearch -   POST http://localhost:9200/_bulk?refresh=wait_for [status:200 request:1.464s]\n",
      "11/03/2021 08:34:26 - INFO - elasticsearch -   POST http://localhost:9200/_bulk?refresh=wait_for [status:200 request:1.181s]\n",
      "11/03/2021 08:34:28 - INFO - elasticsearch -   POST http://localhost:9200/_bulk?refresh=wait_for [status:200 request:1.172s]\n",
      "11/03/2021 08:34:29 - INFO - elasticsearch -   POST http://localhost:9200/_bulk?refresh=wait_for [status:200 request:1.118s]\n",
      "11/03/2021 08:34:30 - INFO - elasticsearch -   POST http://localhost:9200/_bulk?refresh=wait_for [status:200 request:1.148s]\n",
      "11/03/2021 08:34:31 - INFO - elasticsearch -   POST http://localhost:9200/_bulk?refresh=wait_for [status:200 request:1.133s]\n",
      "11/03/2021 08:34:32 - INFO - elasticsearch -   POST http://localhost:9200/_bulk?refresh=wait_for [status:200 request:1.139s]\n",
      "11/03/2021 08:34:33 - INFO - elasticsearch -   POST http://localhost:9200/_bulk?refresh=wait_for [status:200 request:1.123s]\n",
      "11/03/2021 08:34:35 - INFO - elasticsearch -   POST http://localhost:9200/_bulk?refresh=wait_for [status:200 request:1.130s]\n",
      "11/03/2021 08:34:37 - INFO - elasticsearch -   POST http://localhost:9200/_bulk?refresh=wait_for [status:200 request:2.258s]\n",
      "11/03/2021 08:34:38 - INFO - elasticsearch -   POST http://localhost:9200/_bulk?refresh=wait_for [status:200 request:1.185s]\n",
      "11/03/2021 08:34:39 - INFO - elasticsearch -   POST http://localhost:9200/_bulk?refresh=wait_for [status:200 request:1.158s]\n",
      "11/03/2021 08:34:40 - INFO - elasticsearch -   POST http://localhost:9200/_bulk?refresh=wait_for [status:200 request:1.140s]\n",
      "11/03/2021 08:34:42 - INFO - elasticsearch -   POST http://localhost:9200/_bulk?refresh=wait_for [status:200 request:1.127s]\n",
      "11/03/2021 08:34:43 - INFO - elasticsearch -   POST http://localhost:9200/_bulk?refresh=wait_for [status:200 request:1.140s]\n",
      "11/03/2021 08:34:44 - INFO - elasticsearch -   POST http://localhost:9200/_bulk?refresh=wait_for [status:200 request:1.124s]\n",
      "11/03/2021 08:34:45 - INFO - elasticsearch -   POST http://localhost:9200/_bulk?refresh=wait_for [status:200 request:1.131s]\n",
      "11/03/2021 08:34:46 - INFO - elasticsearch -   POST http://localhost:9200/_bulk?refresh=wait_for [status:200 request:1.138s]\n",
      "11/03/2021 08:34:47 - INFO - elasticsearch -   POST http://localhost:9200/_bulk?refresh=wait_for [status:200 request:1.127s]\n",
      "11/03/2021 08:34:49 - INFO - elasticsearch -   POST http://localhost:9200/_bulk?refresh=wait_for [status:200 request:1.141s]\n",
      "11/03/2021 08:34:50 - INFO - elasticsearch -   POST http://localhost:9200/_bulk?refresh=wait_for [status:200 request:1.087s]\n",
      "11/03/2021 08:34:51 - INFO - elasticsearch -   POST http://localhost:9200/_bulk?refresh=wait_for [status:200 request:1.174s]\n",
      "11/03/2021 08:34:52 - INFO - elasticsearch -   POST http://localhost:9200/_bulk?refresh=wait_for [status:200 request:1.123s]\n",
      "11/03/2021 08:34:53 - INFO - elasticsearch -   POST http://localhost:9200/_bulk?refresh=wait_for [status:200 request:1.144s]\n",
      "11/03/2021 08:34:55 - INFO - elasticsearch -   POST http://localhost:9200/_bulk?refresh=wait_for [status:200 request:1.159s]\n",
      "11/03/2021 08:34:56 - INFO - elasticsearch -   POST http://localhost:9200/_bulk?refresh=wait_for [status:200 request:1.117s]\n",
      "11/03/2021 08:34:57 - INFO - elasticsearch -   POST http://localhost:9200/_bulk?refresh=wait_for [status:200 request:1.124s]\n",
      "11/03/2021 08:34:58 - INFO - elasticsearch -   POST http://localhost:9200/_bulk?refresh=wait_for [status:200 request:1.131s]\n",
      "11/03/2021 08:34:59 - INFO - elasticsearch -   POST http://localhost:9200/_bulk?refresh=wait_for [status:200 request:1.128s]\n"
     ]
    },
    {
     "ename": "KeyboardInterrupt",
     "evalue": "",
     "output_type": "error",
     "traceback": [
      "\u001b[0;31m---------------------------------------------------------------------------\u001b[0m",
      "\u001b[0;31mKeyboardInterrupt\u001b[0m                         Traceback (most recent call last)",
      "\u001b[0;32m<ipython-input-18-edfd1e68abda>\u001b[0m in \u001b[0;36m<module>\u001b[0;34m\u001b[0m\n\u001b[1;32m     13\u001b[0m     } for context in tqdm(contexts)\n\u001b[1;32m     14\u001b[0m ]\n\u001b[0;32m---> 15\u001b[0;31m \u001b[0mdocument_store\u001b[0m\u001b[0;34m.\u001b[0m\u001b[0mwrite_documents\u001b[0m\u001b[0;34m(\u001b[0m\u001b[0mdicts\u001b[0m\u001b[0;34m)\u001b[0m\u001b[0;34m\u001b[0m\u001b[0;34m\u001b[0m\u001b[0m\n\u001b[0m",
      "\u001b[0;32m/opt/conda/lib/python3.8/site-packages/haystack/document_store/elasticsearch.py\u001b[0m in \u001b[0;36mwrite_documents\u001b[0;34m(self, documents, index, batch_size, duplicate_documents)\u001b[0m\n\u001b[1;32m    446\u001b[0m             \u001b[0;31m# Pass batch_size number of documents to bulk\u001b[0m\u001b[0;34m\u001b[0m\u001b[0;34m\u001b[0m\u001b[0;34m\u001b[0m\u001b[0m\n\u001b[1;32m    447\u001b[0m             \u001b[0;32mif\u001b[0m \u001b[0mlen\u001b[0m\u001b[0;34m(\u001b[0m\u001b[0mdocuments_to_index\u001b[0m\u001b[0;34m)\u001b[0m \u001b[0;34m%\u001b[0m \u001b[0mbatch_size\u001b[0m \u001b[0;34m==\u001b[0m \u001b[0;36m0\u001b[0m\u001b[0;34m:\u001b[0m\u001b[0;34m\u001b[0m\u001b[0;34m\u001b[0m\u001b[0m\n\u001b[0;32m--> 448\u001b[0;31m                 \u001b[0mbulk\u001b[0m\u001b[0;34m(\u001b[0m\u001b[0mself\u001b[0m\u001b[0;34m.\u001b[0m\u001b[0mclient\u001b[0m\u001b[0;34m,\u001b[0m \u001b[0mdocuments_to_index\u001b[0m\u001b[0;34m,\u001b[0m \u001b[0mrequest_timeout\u001b[0m\u001b[0;34m=\u001b[0m\u001b[0;36m300\u001b[0m\u001b[0;34m,\u001b[0m \u001b[0mrefresh\u001b[0m\u001b[0;34m=\u001b[0m\u001b[0mself\u001b[0m\u001b[0;34m.\u001b[0m\u001b[0mrefresh_type\u001b[0m\u001b[0;34m)\u001b[0m\u001b[0;34m\u001b[0m\u001b[0;34m\u001b[0m\u001b[0m\n\u001b[0m\u001b[1;32m    449\u001b[0m                 \u001b[0mdocuments_to_index\u001b[0m \u001b[0;34m=\u001b[0m \u001b[0;34m[\u001b[0m\u001b[0;34m]\u001b[0m\u001b[0;34m\u001b[0m\u001b[0;34m\u001b[0m\u001b[0m\n\u001b[1;32m    450\u001b[0m \u001b[0;34m\u001b[0m\u001b[0m\n",
      "\u001b[0;32m/opt/conda/lib/python3.8/site-packages/elasticsearch/helpers/actions.py\u001b[0m in \u001b[0;36mbulk\u001b[0;34m(client, actions, stats_only, *args, **kwargs)\u001b[0m\n\u001b[1;32m    388\u001b[0m     \u001b[0;31m# make streaming_bulk yield successful results so we can count them\u001b[0m\u001b[0;34m\u001b[0m\u001b[0;34m\u001b[0m\u001b[0;34m\u001b[0m\u001b[0m\n\u001b[1;32m    389\u001b[0m     \u001b[0mkwargs\u001b[0m\u001b[0;34m[\u001b[0m\u001b[0;34m\"yield_ok\"\u001b[0m\u001b[0;34m]\u001b[0m \u001b[0;34m=\u001b[0m \u001b[0;32mTrue\u001b[0m\u001b[0;34m\u001b[0m\u001b[0;34m\u001b[0m\u001b[0m\n\u001b[0;32m--> 390\u001b[0;31m     \u001b[0;32mfor\u001b[0m \u001b[0mok\u001b[0m\u001b[0;34m,\u001b[0m \u001b[0mitem\u001b[0m \u001b[0;32min\u001b[0m \u001b[0mstreaming_bulk\u001b[0m\u001b[0;34m(\u001b[0m\u001b[0mclient\u001b[0m\u001b[0;34m,\u001b[0m \u001b[0mactions\u001b[0m\u001b[0;34m,\u001b[0m \u001b[0;34m*\u001b[0m\u001b[0margs\u001b[0m\u001b[0;34m,\u001b[0m \u001b[0;34m**\u001b[0m\u001b[0mkwargs\u001b[0m\u001b[0;34m)\u001b[0m\u001b[0;34m:\u001b[0m\u001b[0;34m\u001b[0m\u001b[0;34m\u001b[0m\u001b[0m\n\u001b[0m\u001b[1;32m    391\u001b[0m         \u001b[0;31m# go through request-response pairs and detect failures\u001b[0m\u001b[0;34m\u001b[0m\u001b[0;34m\u001b[0m\u001b[0;34m\u001b[0m\u001b[0m\n\u001b[1;32m    392\u001b[0m         \u001b[0;32mif\u001b[0m \u001b[0;32mnot\u001b[0m \u001b[0mok\u001b[0m\u001b[0;34m:\u001b[0m\u001b[0;34m\u001b[0m\u001b[0;34m\u001b[0m\u001b[0m\n",
      "\u001b[0;32m/opt/conda/lib/python3.8/site-packages/elasticsearch/helpers/actions.py\u001b[0m in \u001b[0;36mstreaming_bulk\u001b[0;34m(client, actions, chunk_size, max_chunk_bytes, raise_on_error, expand_action_callback, raise_on_exception, max_retries, initial_backoff, max_backoff, yield_ok, *args, **kwargs)\u001b[0m\n\u001b[1;32m    309\u001b[0m \u001b[0;34m\u001b[0m\u001b[0m\n\u001b[1;32m    310\u001b[0m             \u001b[0;32mtry\u001b[0m\u001b[0;34m:\u001b[0m\u001b[0;34m\u001b[0m\u001b[0;34m\u001b[0m\u001b[0m\n\u001b[0;32m--> 311\u001b[0;31m                 for data, (ok, info) in zip(\n\u001b[0m\u001b[1;32m    312\u001b[0m                     \u001b[0mbulk_data\u001b[0m\u001b[0;34m,\u001b[0m\u001b[0;34m\u001b[0m\u001b[0;34m\u001b[0m\u001b[0m\n\u001b[1;32m    313\u001b[0m                     _process_bulk_chunk(\n",
      "\u001b[0;32m/opt/conda/lib/python3.8/site-packages/elasticsearch/helpers/actions.py\u001b[0m in \u001b[0;36m_process_bulk_chunk\u001b[0;34m(client, bulk_actions, bulk_data, raise_on_exception, raise_on_error, *args, **kwargs)\u001b[0m\n\u001b[1;32m    233\u001b[0m     \u001b[0;32mtry\u001b[0m\u001b[0;34m:\u001b[0m\u001b[0;34m\u001b[0m\u001b[0;34m\u001b[0m\u001b[0m\n\u001b[1;32m    234\u001b[0m         \u001b[0;31m# send the actual request\u001b[0m\u001b[0;34m\u001b[0m\u001b[0;34m\u001b[0m\u001b[0;34m\u001b[0m\u001b[0m\n\u001b[0;32m--> 235\u001b[0;31m         \u001b[0mresp\u001b[0m \u001b[0;34m=\u001b[0m \u001b[0mclient\u001b[0m\u001b[0;34m.\u001b[0m\u001b[0mbulk\u001b[0m\u001b[0;34m(\u001b[0m\u001b[0;34m\"\\n\"\u001b[0m\u001b[0;34m.\u001b[0m\u001b[0mjoin\u001b[0m\u001b[0;34m(\u001b[0m\u001b[0mbulk_actions\u001b[0m\u001b[0;34m)\u001b[0m \u001b[0;34m+\u001b[0m \u001b[0;34m\"\\n\"\u001b[0m\u001b[0;34m,\u001b[0m \u001b[0;34m*\u001b[0m\u001b[0margs\u001b[0m\u001b[0;34m,\u001b[0m \u001b[0;34m**\u001b[0m\u001b[0mkwargs\u001b[0m\u001b[0;34m)\u001b[0m\u001b[0;34m\u001b[0m\u001b[0;34m\u001b[0m\u001b[0m\n\u001b[0m\u001b[1;32m    236\u001b[0m     \u001b[0;32mexcept\u001b[0m \u001b[0mTransportError\u001b[0m \u001b[0;32mas\u001b[0m \u001b[0me\u001b[0m\u001b[0;34m:\u001b[0m\u001b[0;34m\u001b[0m\u001b[0;34m\u001b[0m\u001b[0m\n\u001b[1;32m    237\u001b[0m         gen = _process_bulk_chunk_error(\n",
      "\u001b[0;32m/opt/conda/lib/python3.8/site-packages/elasticsearch/client/utils.py\u001b[0m in \u001b[0;36m_wrapped\u001b[0;34m(*args, **kwargs)\u001b[0m\n\u001b[1;32m    150\u001b[0m                 \u001b[0;32mif\u001b[0m \u001b[0mp\u001b[0m \u001b[0;32min\u001b[0m \u001b[0mkwargs\u001b[0m\u001b[0;34m:\u001b[0m\u001b[0;34m\u001b[0m\u001b[0;34m\u001b[0m\u001b[0m\n\u001b[1;32m    151\u001b[0m                     \u001b[0mparams\u001b[0m\u001b[0;34m[\u001b[0m\u001b[0mp\u001b[0m\u001b[0;34m]\u001b[0m \u001b[0;34m=\u001b[0m \u001b[0mkwargs\u001b[0m\u001b[0;34m.\u001b[0m\u001b[0mpop\u001b[0m\u001b[0;34m(\u001b[0m\u001b[0mp\u001b[0m\u001b[0;34m)\u001b[0m\u001b[0;34m\u001b[0m\u001b[0;34m\u001b[0m\u001b[0m\n\u001b[0;32m--> 152\u001b[0;31m             \u001b[0;32mreturn\u001b[0m \u001b[0mfunc\u001b[0m\u001b[0;34m(\u001b[0m\u001b[0;34m*\u001b[0m\u001b[0margs\u001b[0m\u001b[0;34m,\u001b[0m \u001b[0mparams\u001b[0m\u001b[0;34m=\u001b[0m\u001b[0mparams\u001b[0m\u001b[0;34m,\u001b[0m \u001b[0mheaders\u001b[0m\u001b[0;34m=\u001b[0m\u001b[0mheaders\u001b[0m\u001b[0;34m,\u001b[0m \u001b[0;34m**\u001b[0m\u001b[0mkwargs\u001b[0m\u001b[0;34m)\u001b[0m\u001b[0;34m\u001b[0m\u001b[0;34m\u001b[0m\u001b[0m\n\u001b[0m\u001b[1;32m    153\u001b[0m \u001b[0;34m\u001b[0m\u001b[0m\n\u001b[1;32m    154\u001b[0m         \u001b[0;32mreturn\u001b[0m \u001b[0m_wrapped\u001b[0m\u001b[0;34m\u001b[0m\u001b[0;34m\u001b[0m\u001b[0m\n",
      "\u001b[0;32m/opt/conda/lib/python3.8/site-packages/elasticsearch/client/__init__.py\u001b[0m in \u001b[0;36mbulk\u001b[0;34m(self, body, index, doc_type, params, headers)\u001b[0m\n\u001b[1;32m    453\u001b[0m \u001b[0;34m\u001b[0m\u001b[0m\n\u001b[1;32m    454\u001b[0m         \u001b[0mbody\u001b[0m \u001b[0;34m=\u001b[0m \u001b[0m_bulk_body\u001b[0m\u001b[0;34m(\u001b[0m\u001b[0mself\u001b[0m\u001b[0;34m.\u001b[0m\u001b[0mtransport\u001b[0m\u001b[0;34m.\u001b[0m\u001b[0mserializer\u001b[0m\u001b[0;34m,\u001b[0m \u001b[0mbody\u001b[0m\u001b[0;34m)\u001b[0m\u001b[0;34m\u001b[0m\u001b[0;34m\u001b[0m\u001b[0m\n\u001b[0;32m--> 455\u001b[0;31m         return self.transport.perform_request(\n\u001b[0m\u001b[1;32m    456\u001b[0m             \u001b[0;34m\"POST\"\u001b[0m\u001b[0;34m,\u001b[0m\u001b[0;34m\u001b[0m\u001b[0;34m\u001b[0m\u001b[0m\n\u001b[1;32m    457\u001b[0m             \u001b[0m_make_path\u001b[0m\u001b[0;34m(\u001b[0m\u001b[0mindex\u001b[0m\u001b[0;34m,\u001b[0m \u001b[0mdoc_type\u001b[0m\u001b[0;34m,\u001b[0m \u001b[0;34m\"_bulk\"\u001b[0m\u001b[0;34m)\u001b[0m\u001b[0;34m,\u001b[0m\u001b[0;34m\u001b[0m\u001b[0;34m\u001b[0m\u001b[0m\n",
      "\u001b[0;32m/opt/conda/lib/python3.8/site-packages/elasticsearch/transport.py\u001b[0m in \u001b[0;36mperform_request\u001b[0;34m(self, method, url, headers, params, body)\u001b[0m\n\u001b[1;32m    356\u001b[0m \u001b[0;34m\u001b[0m\u001b[0m\n\u001b[1;32m    357\u001b[0m             \u001b[0;32mtry\u001b[0m\u001b[0;34m:\u001b[0m\u001b[0;34m\u001b[0m\u001b[0;34m\u001b[0m\u001b[0m\n\u001b[0;32m--> 358\u001b[0;31m                 status, headers_response, data = connection.perform_request(\n\u001b[0m\u001b[1;32m    359\u001b[0m                     \u001b[0mmethod\u001b[0m\u001b[0;34m,\u001b[0m\u001b[0;34m\u001b[0m\u001b[0;34m\u001b[0m\u001b[0m\n\u001b[1;32m    360\u001b[0m                     \u001b[0murl\u001b[0m\u001b[0;34m,\u001b[0m\u001b[0;34m\u001b[0m\u001b[0;34m\u001b[0m\u001b[0m\n",
      "\u001b[0;32m/opt/conda/lib/python3.8/site-packages/elasticsearch/connection/http_urllib3.py\u001b[0m in \u001b[0;36mperform_request\u001b[0;34m(self, method, url, params, body, timeout, ignore, headers)\u001b[0m\n\u001b[1;32m    243\u001b[0m                 \u001b[0mrequest_headers\u001b[0m\u001b[0;34m[\u001b[0m\u001b[0;34m\"content-encoding\"\u001b[0m\u001b[0;34m]\u001b[0m \u001b[0;34m=\u001b[0m \u001b[0;34m\"gzip\"\u001b[0m\u001b[0;34m\u001b[0m\u001b[0;34m\u001b[0m\u001b[0m\n\u001b[1;32m    244\u001b[0m \u001b[0;34m\u001b[0m\u001b[0m\n\u001b[0;32m--> 245\u001b[0;31m             response = self.pool.urlopen(\n\u001b[0m\u001b[1;32m    246\u001b[0m                 \u001b[0mmethod\u001b[0m\u001b[0;34m,\u001b[0m \u001b[0murl\u001b[0m\u001b[0;34m,\u001b[0m \u001b[0mbody\u001b[0m\u001b[0;34m,\u001b[0m \u001b[0mretries\u001b[0m\u001b[0;34m=\u001b[0m\u001b[0mRetry\u001b[0m\u001b[0;34m(\u001b[0m\u001b[0;32mFalse\u001b[0m\u001b[0;34m)\u001b[0m\u001b[0;34m,\u001b[0m \u001b[0mheaders\u001b[0m\u001b[0;34m=\u001b[0m\u001b[0mrequest_headers\u001b[0m\u001b[0;34m,\u001b[0m \u001b[0;34m**\u001b[0m\u001b[0mkw\u001b[0m\u001b[0;34m\u001b[0m\u001b[0;34m\u001b[0m\u001b[0m\n\u001b[1;32m    247\u001b[0m             )\n",
      "\u001b[0;32m/opt/conda/lib/python3.8/site-packages/urllib3/connectionpool.py\u001b[0m in \u001b[0;36murlopen\u001b[0;34m(self, method, url, body, headers, retries, redirect, assert_same_host, timeout, pool_timeout, release_conn, chunked, body_pos, **response_kw)\u001b[0m\n\u001b[1;32m    668\u001b[0m \u001b[0;34m\u001b[0m\u001b[0m\n\u001b[1;32m    669\u001b[0m             \u001b[0;31m# Make the request on the httplib connection object.\u001b[0m\u001b[0;34m\u001b[0m\u001b[0;34m\u001b[0m\u001b[0;34m\u001b[0m\u001b[0m\n\u001b[0;32m--> 670\u001b[0;31m             httplib_response = self._make_request(\n\u001b[0m\u001b[1;32m    671\u001b[0m                 \u001b[0mconn\u001b[0m\u001b[0;34m,\u001b[0m\u001b[0;34m\u001b[0m\u001b[0;34m\u001b[0m\u001b[0m\n\u001b[1;32m    672\u001b[0m                 \u001b[0mmethod\u001b[0m\u001b[0;34m,\u001b[0m\u001b[0;34m\u001b[0m\u001b[0;34m\u001b[0m\u001b[0m\n",
      "\u001b[0;32m/opt/conda/lib/python3.8/site-packages/urllib3/connectionpool.py\u001b[0m in \u001b[0;36m_make_request\u001b[0;34m(self, conn, method, url, timeout, chunked, **httplib_request_kw)\u001b[0m\n\u001b[1;32m    424\u001b[0m                     \u001b[0;31m# Python 3 (including for exceptions like SystemExit).\u001b[0m\u001b[0;34m\u001b[0m\u001b[0;34m\u001b[0m\u001b[0;34m\u001b[0m\u001b[0m\n\u001b[1;32m    425\u001b[0m                     \u001b[0;31m# Otherwise it looks like a bug in the code.\u001b[0m\u001b[0;34m\u001b[0m\u001b[0;34m\u001b[0m\u001b[0;34m\u001b[0m\u001b[0m\n\u001b[0;32m--> 426\u001b[0;31m                     \u001b[0msix\u001b[0m\u001b[0;34m.\u001b[0m\u001b[0mraise_from\u001b[0m\u001b[0;34m(\u001b[0m\u001b[0me\u001b[0m\u001b[0;34m,\u001b[0m \u001b[0;32mNone\u001b[0m\u001b[0;34m)\u001b[0m\u001b[0;34m\u001b[0m\u001b[0;34m\u001b[0m\u001b[0m\n\u001b[0m\u001b[1;32m    427\u001b[0m         \u001b[0;32mexcept\u001b[0m \u001b[0;34m(\u001b[0m\u001b[0mSocketTimeout\u001b[0m\u001b[0;34m,\u001b[0m \u001b[0mBaseSSLError\u001b[0m\u001b[0;34m,\u001b[0m \u001b[0mSocketError\u001b[0m\u001b[0;34m)\u001b[0m \u001b[0;32mas\u001b[0m \u001b[0me\u001b[0m\u001b[0;34m:\u001b[0m\u001b[0;34m\u001b[0m\u001b[0;34m\u001b[0m\u001b[0m\n\u001b[1;32m    428\u001b[0m             \u001b[0mself\u001b[0m\u001b[0;34m.\u001b[0m\u001b[0m_raise_timeout\u001b[0m\u001b[0;34m(\u001b[0m\u001b[0merr\u001b[0m\u001b[0;34m=\u001b[0m\u001b[0me\u001b[0m\u001b[0;34m,\u001b[0m \u001b[0murl\u001b[0m\u001b[0;34m=\u001b[0m\u001b[0murl\u001b[0m\u001b[0;34m,\u001b[0m \u001b[0mtimeout_value\u001b[0m\u001b[0;34m=\u001b[0m\u001b[0mread_timeout\u001b[0m\u001b[0;34m)\u001b[0m\u001b[0;34m\u001b[0m\u001b[0;34m\u001b[0m\u001b[0m\n",
      "\u001b[0;32m/opt/conda/lib/python3.8/site-packages/urllib3/packages/six.py\u001b[0m in \u001b[0;36mraise_from\u001b[0;34m(value, from_value)\u001b[0m\n",
      "\u001b[0;32m/opt/conda/lib/python3.8/site-packages/urllib3/connectionpool.py\u001b[0m in \u001b[0;36m_make_request\u001b[0;34m(self, conn, method, url, timeout, chunked, **httplib_request_kw)\u001b[0m\n\u001b[1;32m    419\u001b[0m                 \u001b[0;31m# Python 3\u001b[0m\u001b[0;34m\u001b[0m\u001b[0;34m\u001b[0m\u001b[0;34m\u001b[0m\u001b[0m\n\u001b[1;32m    420\u001b[0m                 \u001b[0;32mtry\u001b[0m\u001b[0;34m:\u001b[0m\u001b[0;34m\u001b[0m\u001b[0;34m\u001b[0m\u001b[0m\n\u001b[0;32m--> 421\u001b[0;31m                     \u001b[0mhttplib_response\u001b[0m \u001b[0;34m=\u001b[0m \u001b[0mconn\u001b[0m\u001b[0;34m.\u001b[0m\u001b[0mgetresponse\u001b[0m\u001b[0;34m(\u001b[0m\u001b[0;34m)\u001b[0m\u001b[0;34m\u001b[0m\u001b[0;34m\u001b[0m\u001b[0m\n\u001b[0m\u001b[1;32m    422\u001b[0m                 \u001b[0;32mexcept\u001b[0m \u001b[0mBaseException\u001b[0m \u001b[0;32mas\u001b[0m \u001b[0me\u001b[0m\u001b[0;34m:\u001b[0m\u001b[0;34m\u001b[0m\u001b[0;34m\u001b[0m\u001b[0m\n\u001b[1;32m    423\u001b[0m                     \u001b[0;31m# Remove the TypeError from the exception chain in\u001b[0m\u001b[0;34m\u001b[0m\u001b[0;34m\u001b[0m\u001b[0;34m\u001b[0m\u001b[0m\n",
      "\u001b[0;32m/opt/conda/lib/python3.8/http/client.py\u001b[0m in \u001b[0;36mgetresponse\u001b[0;34m(self)\u001b[0m\n\u001b[1;32m   1345\u001b[0m         \u001b[0;32mtry\u001b[0m\u001b[0;34m:\u001b[0m\u001b[0;34m\u001b[0m\u001b[0;34m\u001b[0m\u001b[0m\n\u001b[1;32m   1346\u001b[0m             \u001b[0;32mtry\u001b[0m\u001b[0;34m:\u001b[0m\u001b[0;34m\u001b[0m\u001b[0;34m\u001b[0m\u001b[0m\n\u001b[0;32m-> 1347\u001b[0;31m                 \u001b[0mresponse\u001b[0m\u001b[0;34m.\u001b[0m\u001b[0mbegin\u001b[0m\u001b[0;34m(\u001b[0m\u001b[0;34m)\u001b[0m\u001b[0;34m\u001b[0m\u001b[0;34m\u001b[0m\u001b[0m\n\u001b[0m\u001b[1;32m   1348\u001b[0m             \u001b[0;32mexcept\u001b[0m \u001b[0mConnectionError\u001b[0m\u001b[0;34m:\u001b[0m\u001b[0;34m\u001b[0m\u001b[0;34m\u001b[0m\u001b[0m\n\u001b[1;32m   1349\u001b[0m                 \u001b[0mself\u001b[0m\u001b[0;34m.\u001b[0m\u001b[0mclose\u001b[0m\u001b[0;34m(\u001b[0m\u001b[0;34m)\u001b[0m\u001b[0;34m\u001b[0m\u001b[0;34m\u001b[0m\u001b[0m\n",
      "\u001b[0;32m/opt/conda/lib/python3.8/http/client.py\u001b[0m in \u001b[0;36mbegin\u001b[0;34m(self)\u001b[0m\n\u001b[1;32m    305\u001b[0m         \u001b[0;31m# read until we get a non-100 response\u001b[0m\u001b[0;34m\u001b[0m\u001b[0;34m\u001b[0m\u001b[0;34m\u001b[0m\u001b[0m\n\u001b[1;32m    306\u001b[0m         \u001b[0;32mwhile\u001b[0m \u001b[0;32mTrue\u001b[0m\u001b[0;34m:\u001b[0m\u001b[0;34m\u001b[0m\u001b[0;34m\u001b[0m\u001b[0m\n\u001b[0;32m--> 307\u001b[0;31m             \u001b[0mversion\u001b[0m\u001b[0;34m,\u001b[0m \u001b[0mstatus\u001b[0m\u001b[0;34m,\u001b[0m \u001b[0mreason\u001b[0m \u001b[0;34m=\u001b[0m \u001b[0mself\u001b[0m\u001b[0;34m.\u001b[0m\u001b[0m_read_status\u001b[0m\u001b[0;34m(\u001b[0m\u001b[0;34m)\u001b[0m\u001b[0;34m\u001b[0m\u001b[0;34m\u001b[0m\u001b[0m\n\u001b[0m\u001b[1;32m    308\u001b[0m             \u001b[0;32mif\u001b[0m \u001b[0mstatus\u001b[0m \u001b[0;34m!=\u001b[0m \u001b[0mCONTINUE\u001b[0m\u001b[0;34m:\u001b[0m\u001b[0;34m\u001b[0m\u001b[0;34m\u001b[0m\u001b[0m\n\u001b[1;32m    309\u001b[0m                 \u001b[0;32mbreak\u001b[0m\u001b[0;34m\u001b[0m\u001b[0;34m\u001b[0m\u001b[0m\n",
      "\u001b[0;32m/opt/conda/lib/python3.8/http/client.py\u001b[0m in \u001b[0;36m_read_status\u001b[0;34m(self)\u001b[0m\n\u001b[1;32m    266\u001b[0m \u001b[0;34m\u001b[0m\u001b[0m\n\u001b[1;32m    267\u001b[0m     \u001b[0;32mdef\u001b[0m \u001b[0m_read_status\u001b[0m\u001b[0;34m(\u001b[0m\u001b[0mself\u001b[0m\u001b[0;34m)\u001b[0m\u001b[0;34m:\u001b[0m\u001b[0;34m\u001b[0m\u001b[0;34m\u001b[0m\u001b[0m\n\u001b[0;32m--> 268\u001b[0;31m         \u001b[0mline\u001b[0m \u001b[0;34m=\u001b[0m \u001b[0mstr\u001b[0m\u001b[0;34m(\u001b[0m\u001b[0mself\u001b[0m\u001b[0;34m.\u001b[0m\u001b[0mfp\u001b[0m\u001b[0;34m.\u001b[0m\u001b[0mreadline\u001b[0m\u001b[0;34m(\u001b[0m\u001b[0m_MAXLINE\u001b[0m \u001b[0;34m+\u001b[0m \u001b[0;36m1\u001b[0m\u001b[0;34m)\u001b[0m\u001b[0;34m,\u001b[0m \u001b[0;34m\"iso-8859-1\"\u001b[0m\u001b[0;34m)\u001b[0m\u001b[0;34m\u001b[0m\u001b[0;34m\u001b[0m\u001b[0m\n\u001b[0m\u001b[1;32m    269\u001b[0m         \u001b[0;32mif\u001b[0m \u001b[0mlen\u001b[0m\u001b[0;34m(\u001b[0m\u001b[0mline\u001b[0m\u001b[0;34m)\u001b[0m \u001b[0;34m>\u001b[0m \u001b[0m_MAXLINE\u001b[0m\u001b[0;34m:\u001b[0m\u001b[0;34m\u001b[0m\u001b[0;34m\u001b[0m\u001b[0m\n\u001b[1;32m    270\u001b[0m             \u001b[0;32mraise\u001b[0m \u001b[0mLineTooLong\u001b[0m\u001b[0;34m(\u001b[0m\u001b[0;34m\"status line\"\u001b[0m\u001b[0;34m)\u001b[0m\u001b[0;34m\u001b[0m\u001b[0;34m\u001b[0m\u001b[0m\n",
      "\u001b[0;32m/opt/conda/lib/python3.8/socket.py\u001b[0m in \u001b[0;36mreadinto\u001b[0;34m(self, b)\u001b[0m\n\u001b[1;32m    667\u001b[0m         \u001b[0;32mwhile\u001b[0m \u001b[0;32mTrue\u001b[0m\u001b[0;34m:\u001b[0m\u001b[0;34m\u001b[0m\u001b[0;34m\u001b[0m\u001b[0m\n\u001b[1;32m    668\u001b[0m             \u001b[0;32mtry\u001b[0m\u001b[0;34m:\u001b[0m\u001b[0;34m\u001b[0m\u001b[0;34m\u001b[0m\u001b[0m\n\u001b[0;32m--> 669\u001b[0;31m                 \u001b[0;32mreturn\u001b[0m \u001b[0mself\u001b[0m\u001b[0;34m.\u001b[0m\u001b[0m_sock\u001b[0m\u001b[0;34m.\u001b[0m\u001b[0mrecv_into\u001b[0m\u001b[0;34m(\u001b[0m\u001b[0mb\u001b[0m\u001b[0;34m)\u001b[0m\u001b[0;34m\u001b[0m\u001b[0;34m\u001b[0m\u001b[0m\n\u001b[0m\u001b[1;32m    670\u001b[0m             \u001b[0;32mexcept\u001b[0m \u001b[0mtimeout\u001b[0m\u001b[0;34m:\u001b[0m\u001b[0;34m\u001b[0m\u001b[0;34m\u001b[0m\u001b[0m\n\u001b[1;32m    671\u001b[0m                 \u001b[0mself\u001b[0m\u001b[0;34m.\u001b[0m\u001b[0m_timeout_occurred\u001b[0m \u001b[0;34m=\u001b[0m \u001b[0;32mTrue\u001b[0m\u001b[0;34m\u001b[0m\u001b[0;34m\u001b[0m\u001b[0m\n",
      "\u001b[0;31mKeyboardInterrupt\u001b[0m: "
     ]
    }
   ],
   "source": [
    "# from haystack.document_store.elasticsearch import ElasticsearchDocumentStore\n",
    "document_store = ElasticsearchDocumentStore(host=\"localhost\", username=\"\", password=\"\", index=\"document\", custom_mapping=mapping)\n",
    "\n",
    "import json\n",
    "with open('/opt/ml/data/wikipedia_documents.json', \"r\") as f:\n",
    "    wiki = json.load(f)\n",
    "contexts = list(dict.fromkeys([v['text'] for v in wiki.values()]))\n",
    "\n",
    "\n",
    "dicts = [\n",
    "    {\n",
    "        'text': context,\n",
    "    } for context in tqdm(contexts)\n",
    "]\n",
    "document_store.write_documents(dicts)"
   ]
  },
  {
   "cell_type": "code",
   "execution_count": null,
   "metadata": {},
   "outputs": [],
   "source": [
    "document_store"
   ]
  },
  {
   "cell_type": "code",
   "execution_count": null,
   "metadata": {},
   "outputs": [],
   "source": [
    "dicts"
   ]
  },
  {
   "cell_type": "code",
   "execution_count": null,
   "id": "69561253-2409-4171-aae3-c72d917b3bc4",
   "metadata": {
    "tags": []
   },
   "outputs": [],
   "source": [
    "#only retriever\n",
    "from haystack.retriever import ElasticsearchRetriever\n",
    "retriever = ElasticsearchRetriever(document_store)\n",
    "from haystack.pipeline import DocumentSearchPipeline\n",
    "pipe = DocumentSearchPipeline(retriever)"
   ]
  },
  {
   "cell_type": "code",
   "execution_count": null,
   "id": "10a29e06-550d-430a-9fd0-19665d610107",
   "metadata": {
    "tags": []
   },
   "outputs": [],
   "source": [
    "# #reader(FARM of Transformer) +retriever\n",
    "# from haystack.reader.farm import FARMReader\n",
    "# from haystack.reader.transformers import TransformersReader\n",
    "# reader = TransformersReader(model_name_or_path=\"/opt/ml/code/models/koelectra_test\",max_seq_len=300, doc_stride=120)\n",
    "\n",
    "# from haystack.pipeline import ExtractiveQAPipeline\n",
    "# pipe = ExtractiveQAPipelinee(reader,retriever)"
   ]
  },
  {
   "cell_type": "code",
   "execution_count": null,
   "id": "7940a731",
   "metadata": {},
   "outputs": [],
   "source": [
    "from datasets import load_from_disk\n",
    "testset=load_from_disk('/opt/ml/data/test_dataset')\n",
    "testset=testset['validation']"
   ]
  },
  {
   "cell_type": "code",
   "execution_count": null,
   "metadata": {},
   "outputs": [],
   "source": [
    "question=testset[0]['question']\n",
    "prediction = pipe.run(query=question, params={\"retriever\": {\"top_k\": 30}})\n",
    "prediction['documents'][:5]"
   ]
  },
  {
   "cell_type": "code",
   "execution_count": null,
   "id": "24deb90f-7c8e-4507-8119-54c839d4ef26",
   "metadata": {
    "scrolled": true,
    "tags": []
   },
   "outputs": [],
   "source": [
    "# #dictionary로 top1 문서내용을 json으로 저장\n",
    "# result={}\n",
    "# #for i in range(10): #len(testset['question'])\n",
    "# for example in testset:\n",
    "#     question=example[\"question\"]\n",
    "#     prediction = pipe.run(query=question, params={\"retriever\": {\"top_k\": 10}})\n",
    "#     #from haystack.utils import print_answers\n",
    "#     if prediction['d'][0]['probability']>0.99:\n",
    "#         result[example[\"id\"]]=prediction['answers'][0]['answer']\n",
    "#     else:\n",
    "#         result[example[\"id\"]]=None\n",
    "\n",
    "# with open('elastic_reader.json', \"w\") as writer:\n",
    "#     writer.write(json.dumps(result, indent=4, ensure_ascii=False) + \"\\n\")"
   ]
  },
  {
   "cell_type": "code",
   "execution_count": null,
   "metadata": {},
   "outputs": [],
   "source": [
    "# question = testset[0]['question']\n",
    "# top_k_docs = pipe.run(question, params={\"retriever\": {\"top_k\": 10}})"
   ]
  },
  {
   "cell_type": "code",
   "execution_count": null,
   "id": "530d030d",
   "metadata": {},
   "outputs": [],
   "source": [
    "# #top1 score json으로 저장\n",
    "# save_score={}\n",
    "\n",
    "# for idx, example in enumerate(tqdm(testset, desc=\"elasticsearch: \")):\n",
    "#     # relev_doc_ids = [el for i, el in enumerate(self.ids) if i in doc_indices[idx]]\n",
    "#     question=example[\"question\"]\n",
    "#     top_k_docs = pipe.run(question, params={\"retriever\": {\"top_k\": 10}})\n",
    "\n",
    "#     query = {\n",
    "#         'query':{\n",
    "#             'bool':{\n",
    "#                 'must':[\n",
    "#                           {'match':{'text':question}}\n",
    "#                 ],\n",
    "#                 'should':[\n",
    "#                           {'match':{'text':question}}\n",
    "#                 ]\n",
    "#             }\n",
    "#         }\n",
    "#     }\n",
    "#     doc = es.search(index='document',body=query,size=30)['hits']['hits']\n",
    "\n",
    "    \n",
    "#     save_score[example['id']]=doc[0]['_score']\n",
    "    \n",
    "# with open('top1_score.json', \"w\") as writer:\n",
    "#     writer.write(json.dumps(save_score, indent=4, ensure_ascii=False) + \"\\n\")"
   ]
  },
  {
   "cell_type": "code",
   "execution_count": null,
   "metadata": {},
   "outputs": [],
   "source": [
    "docs = []\n",
    "quries = []"
   ]
  },
  {
   "cell_type": "code",
   "execution_count": null,
   "metadata": {},
   "outputs": [],
   "source": [
    "testset[0]"
   ]
  },
  {
   "cell_type": "code",
   "execution_count": null,
   "id": "eba2472d-3222-4357-903f-a63fd8e9ab60",
   "metadata": {
    "tags": []
   },
   "outputs": [],
   "source": [
    "#datafram을 pickle로 top5 저장\n",
    "import pandas as pd\n",
    "total = []\n",
    "docs = []\n",
    "quries = []\n",
    "for idx, example in enumerate(tqdm(testset, desc=\"elasticsearch: \")):\n",
    "    # relev_doc_ids = [el for i, el in enumerate(self.ids) if i in doc_indices[idx]]\n",
    "    question=example[\"question\"]\n",
    "    top_k_docs = pipe.run(question, params={\"retriever\": {\"top_k\": 30}})\n",
    "\n",
    "    # query = {\n",
    "    #     'query':{\n",
    "    #         'bool':{\n",
    "    #             'must':[\n",
    "    #                       {'match':{'text':question}}\n",
    "    #             ],\n",
    "    #             'should':[\n",
    "    #                       {'match':{'text':question}}\n",
    "    #             ]\n",
    "    #         }\n",
    "    #     }\n",
    "    # }\n",
    "\n",
    "    query = {\n",
    "            'query': {\n",
    "                'match': {\n",
    "                    'text': question\n",
    "                    }\n",
    "                }\n",
    "            }\n",
    "    quries.append(query)\n",
    "    \n",
    "    doc = es.search(index='document',body=query,size=30)['hits']['hits']\n",
    "    cc = ''\n",
    "    docs.append(doc)\n",
    "    \n",
    "    for i in range(10):\n",
    "        cc += doc[i]['_source']['text']\n",
    "        \n",
    "\n",
    "    tmp = {\n",
    "        \"question\": example[\"question\"],\n",
    "        \"id\": example['id'],\n",
    "        \"context_id\": doc[0]['_id'],  # retrieved id\n",
    "        \"context\": cc # doc[0]['_source']['text']+doc[1]['_source']['text']+doc[2]['_source']['text']+doc[3]['_source']['text']+doc[4]['_source']['text'] # retrieved doument\n",
    "    }\n",
    " \n",
    "    if 'context' in example.keys() and 'answers' in example.keys():\n",
    "        tmp[\"original_context\"] = example['context']  # original document\n",
    "        tmp[\"answers\"] = example['answers']           # original answer\n",
    "    total.append(tmp)"
   ]
  },
  {
   "cell_type": "code",
   "execution_count": null,
   "metadata": {},
   "outputs": [],
   "source": [
    "# docs\n",
    "query"
   ]
  },
  {
   "cell_type": "code",
   "execution_count": null,
   "metadata": {},
   "outputs": [],
   "source": [
    "docs"
   ]
  },
  {
   "cell_type": "code",
   "execution_count": null,
   "id": "52134645-3831-4854-b64a-ee1b9f46517a",
   "metadata": {},
   "outputs": [],
   "source": [
    "cqas = pd.DataFrame(total)\n",
    "# cqas = pd.read_pickle(\"elastic.pkl\")\n",
    "cqas"
   ]
  },
  {
   "cell_type": "markdown",
   "metadata": {},
   "source": [
    "# ---------------RUN MRC TEST--------------------"
   ]
  },
  {
   "cell_type": "code",
   "execution_count": null,
   "metadata": {},
   "outputs": [],
   "source": [
    "df = cqas\n",
    "df['context'][0]"
   ]
  },
  {
   "cell_type": "code",
   "execution_count": null,
   "metadata": {},
   "outputs": [],
   "source": [
    "from datasets import (\n",
    "    load_metric,\n",
    "    load_from_disk,\n",
    "    Sequence,\n",
    "    Value,\n",
    "    Features,\n",
    "    Dataset,\n",
    "    DatasetDict,\n",
    ")"
   ]
  },
  {
   "cell_type": "code",
   "execution_count": null,
   "metadata": {},
   "outputs": [],
   "source": [
    "f = Features(\n",
    "    {\n",
    "        \"context\": Value(dtype=\"string\", id=None),\n",
    "        \"id\": Value(dtype=\"string\", id=None),\n",
    "        \"question\": Value(dtype=\"string\", id=None),\n",
    "    }\n",
    ")"
   ]
  },
  {
   "cell_type": "code",
   "execution_count": null,
   "metadata": {},
   "outputs": [],
   "source": [
    "from inference import main, run_mrc"
   ]
  },
  {
   "cell_type": "code",
   "execution_count": null,
   "metadata": {},
   "outputs": [],
   "source": [
    "datasets = DatasetDict({\"validation\": Dataset.from_pandas(df, features=f)})\n",
    "datasets"
   ]
  },
  {
   "cell_type": "code",
   "execution_count": null,
   "metadata": {},
   "outputs": [],
   "source": [
    "\"\"\"\n",
    "Open-Domain Question Answering 을 수행하는 inference 코드 입니다.\n",
    "대부분의 로직은 train.py 와 비슷하나 retrieval, predict 부분이 추가되어 있습니다.\n",
    "\"\"\"\n",
    "\n",
    "import os\n",
    "import logging\n",
    "import sys\n",
    "from typing import Callable, List, Dict, NoReturn, Tuple\n",
    "\n",
    "import numpy as np\n",
    "\n",
    "from datasets import (\n",
    "    load_metric,\n",
    "    load_from_disk,\n",
    "    Sequence,\n",
    "    Value,\n",
    "    Features,\n",
    "    Dataset,\n",
    "    DatasetDict,\n",
    ")\n",
    "\n",
    "from transformers import AutoConfig, AutoModelForQuestionAnswering, AutoTokenizer, AutoModel\n",
    "\n",
    "from transformers import (\n",
    "    DataCollatorWithPadding,\n",
    "    EvalPrediction,\n",
    "    HfArgumentParser,\n",
    "    TrainingArguments,\n",
    "    set_seed,\n",
    ")\n",
    "\n",
    "from utils_qa import postprocess_qa_predictions, check_no_error\n",
    "from trainer_qa import QuestionAnsweringTrainer\n",
    "from retrieval import SparseRetrieval\n",
    "from train_dpr import DenseRetrieval\n",
    "\n",
    "from arguments import (\n",
    "    ModelArguments,\n",
    "    DataTrainingArguments,\n",
    ")\n",
    "\n",
    "from bm25_ensemble import BM25EnsembleRetrieval\n",
    "\n",
    "logger = logging.getLogger(__name__)"
   ]
  },
  {
   "cell_type": "code",
   "execution_count": null,
   "metadata": {},
   "outputs": [],
   "source": [
    "parser = HfArgumentParser(\n",
    "    (ModelArguments, DataTrainingArguments, TrainingArguments)\n",
    ")\n",
    "model_args, data_args, training_args = parser.parse_args_into_dataclasses()\n",
    "# 인스턴스 클래스로 감싸주는 거 하면 좋을 듯!\n",
    "training_args.do_train = True\n",
    "\n",
    "print(f\"model is from {model_args.model_name_or_path}\")\n",
    "print(f\"data is from {data_args.dataset_name}\")\n",
    "\n",
    "# logging 설정\n",
    "logging.basicConfig(\n",
    "    format=\"%(asctime)s - %(levelname)s - %(name)s -   %(message)s\",\n",
    "    datefmt=\"%m/%d/%Y %H:%M:%S\",\n",
    "    handlers=[logging.StreamHandler(sys.stdout)],\n",
    ")\n",
    "\n",
    "# verbosity 설정 : Transformers logger의 정보로 사용합니다 (on main process only)\n",
    "logger.info(\"Training/evaluation parameters %s\", training_args)\n",
    "\n",
    "# 모델을 초기화하기 전에 난수를 고정합니다.\n",
    "set_seed(training_args.seed)\n",
    "\n",
    "datasets = load_from_disk(\"../data/train_dataset\")\n",
    "print(datasets)\n",
    "\n",
    "# AutoConfig를 이용하여 pretrained model 과 tokenizer를 불러옵니다.\n",
    "# argument로 원하는 모델 이름을 설정하면 옵션을 바꿀 수 있습니다.\n",
    "config = AutoConfig.from_pretrained(\n",
    "    model_args.config_name\n",
    "    if model_args.config_name\n",
    "    else model_args.model_name_or_path,\n",
    ")\n",
    "tokenizer = AutoTokenizer.from_pretrained(\n",
    "    model_args.tokenizer_name\n",
    "    if model_args.tokenizer_name\n",
    "    else model_args.model_name_or_path,\n",
    "    use_fast=True,\n",
    ")\n",
    "model = AutoModelForQuestionAnswering.from_pretrained(\n",
    "    model_args.model_name_or_path,\n",
    "    from_tf=bool(\".ckpt\" in model_args.model_name_or_path),\n",
    "    config=config,\n",
    ")\n",
    "# True일 경우 : run passage retrieval\n",
    "# eval_retrieval의 default는? true"
   ]
  },
  {
   "cell_type": "code",
   "execution_count": null,
   "metadata": {},
   "outputs": [],
   "source": [
    "run_mrc(data_args, training_args, model_args, datasets, tokenizer, model)"
   ]
  },
  {
   "cell_type": "code",
   "execution_count": null,
   "metadata": {},
   "outputs": [],
   "source": [
    "def run_mrc(\n",
    "    data_args: DataTrainingArguments,\n",
    "    training_args: TrainingArguments,\n",
    "    model_args: ModelArguments,\n",
    "    datasets: DatasetDict,\n",
    "    tokenizer,\n",
    "    model,\n",
    ") -> NoReturn:\n",
    "\n",
    "    # eval 혹은 prediction에서만 사용함\n",
    "    column_names = datasets[\"validation\"].column_names\n",
    "\n",
    "    question_column_name = \"question\" if \"question\" in column_names else column_names[0]\n",
    "    context_column_name = \"context\" if \"context\" in column_names else column_names[1]\n",
    "    answer_column_name = \"answers\" if \"answers\" in column_names else column_names[2]\n",
    "\n",
    "    # Padding에 대한 옵션을 설정합니다.\n",
    "    # (question|context) 혹은 (context|question)로 세팅 가능합니다.\n",
    "    pad_on_right = tokenizer.padding_side == \"right\"\n",
    "\n",
    "    # 오류가 있는지 확인합니다.\n",
    "    last_checkpoint, max_seq_length = check_no_error(\n",
    "        data_args, training_args, datasets, tokenizer\n",
    "    )\n",
    "\n",
    "    # Validation preprocessing / 전처리를 진행합니다.\n",
    "    # start, end 정보가 없음, 만들 수가 없다.\n",
    "    def prepare_validation_features(examples):\n",
    "        # truncation과 padding(length가 짧을때만)을 통해 toknization을 진행하며, stride를 이용하여 overflow를 유지합니다.\n",
    "        # 각 example들은 이전의 context와 조금씩 겹치게됩니다.\n",
    "        tokenized_examples = tokenizer(\n",
    "            examples[question_column_name if pad_on_right else context_column_name],\n",
    "            examples[context_column_name if pad_on_right else question_column_name],\n",
    "            truncation=\"only_second\" if pad_on_right else \"only_first\",\n",
    "            max_length=max_seq_length,\n",
    "            stride=data_args.doc_stride,\n",
    "            return_overflowing_tokens=True,\n",
    "            return_offsets_mapping=True,\n",
    "            # return_token_type_ids=False, # roberta모델을 사용할 경우 False, bert를 사용할 경우 True로 표기해야합니다.\n",
    "            padding=\"max_length\" if data_args.pad_to_max_length else False,\n",
    "        )\n",
    "\n",
    "        # 길이가 긴 context가 등장할 경우 truncate를 진행해야하므로, 해당 데이터셋을 찾을 수 있도록 mapping 가능한 값이 필요합니다.\n",
    "        sample_mapping = tokenized_examples.pop(\"overflow_to_sample_mapping\")\n",
    "\n",
    "        # evaluation을 위해, prediction을 context의 substring으로 변환해야합니다.\n",
    "        # corresponding example_id를 유지하고 offset mappings을 저장해야합니다.\n",
    "        tokenized_examples[\"example_id\"] = []\n",
    "\n",
    "        for i in range(len(tokenized_examples[\"input_ids\"])):\n",
    "            # sequence id를 설정합니다 (to know what is the context and what is the question).\n",
    "            sequence_ids = tokenized_examples.sequence_ids(i)\n",
    "            context_index = 1 if pad_on_right else 0\n",
    "\n",
    "            # 하나의 example이 여러개의 span을 가질 수 있습니다.\n",
    "            sample_index = sample_mapping[i]\n",
    "            tokenized_examples[\"example_id\"].append(examples[\"id\"][sample_index])\n",
    "\n",
    "            # context의 일부가 아닌 offset_mapping을 None으로 설정하여 토큰 위치가 컨텍스트의 일부인지 여부를 쉽게 판별할 수 있습니다.\n",
    "            tokenized_examples[\"offset_mapping\"][i] = [\n",
    "                (o if sequence_ids[k] == context_index else None)\n",
    "                for k, o in enumerate(tokenized_examples[\"offset_mapping\"][i])\n",
    "            ]\n",
    "        return tokenized_examples\n",
    "\n",
    "    eval_dataset = datasets[\"validation\"]\n",
    "\n",
    "    # Validation Feature 생성\n",
    "    eval_dataset = eval_dataset.map(\n",
    "        prepare_validation_features,\n",
    "        batched=True,\n",
    "        num_proc=data_args.preprocessing_num_workers,\n",
    "        remove_columns=column_names,\n",
    "        load_from_cache_file=not data_args.overwrite_cache,\n",
    "    )\n",
    "\n",
    "    # Data collator\n",
    "    # flag가 True이면 이미 max length로 padding된 상태입니다.\n",
    "    # 그렇지 않다면 data collator에서 padding을 진행해야합니다.\n",
    "    data_collator = DataCollatorWithPadding(\n",
    "        tokenizer, pad_to_multiple_of=8 if training_args.fp16 else None\n",
    "    )\n",
    "\n",
    "    # Post-processing:\n",
    "    def post_processing_function(\n",
    "        examples,\n",
    "        features,\n",
    "        predictions: Tuple[np.ndarray, np.ndarray],\n",
    "        training_args: TrainingArguments,\n",
    "    ) -> EvalPrediction:\n",
    "        # Post-processing: start logits과 end logits을 original context의 정답과 match시킵니다.\n",
    "        predictions = postprocess_qa_predictions(\n",
    "            examples=examples,\n",
    "            features=features,\n",
    "            predictions=predictions,\n",
    "            max_answer_length=data_args.max_answer_length,\n",
    "            output_dir=training_args.output_dir,\n",
    "        )\n",
    "        # Metric을 구할 수 있도록 Format을 맞춰줍니다.\n",
    "        formatted_predictions = [\n",
    "            {\"id\": k, \"prediction_text\": v} for k, v in predictions.items()\n",
    "        ]\n",
    "\n",
    "        if training_args.do_predict:\n",
    "            return formatted_predictions\n",
    "        elif training_args.do_eval:\n",
    "            references = [\n",
    "                {\"id\": ex[\"id\"], \"answers\": ex[answer_column_name]}\n",
    "                for ex in datasets[\"validation\"]\n",
    "            ]\n",
    "\n",
    "            return EvalPrediction(\n",
    "                predictions=formatted_predictions, label_ids=references\n",
    "            )\n",
    "\n",
    "    metric = load_metric(\"squad\")\n",
    "\n",
    "    def compute_metrics(p: EvalPrediction) -> Dict:\n",
    "        return metric.compute(predictions=p.predictions, references=p.label_ids)\n",
    "\n",
    "    print(\"init trainer...\")\n",
    "    # Trainer 초기화\n",
    "    trainer = QuestionAnsweringTrainer(\n",
    "        model=model,\n",
    "        args=training_args,\n",
    "        train_dataset=None,\n",
    "        eval_dataset=eval_dataset,\n",
    "        eval_examples=datasets[\"validation\"],\n",
    "        tokenizer=tokenizer,\n",
    "        data_collator=data_collator,\n",
    "        post_process_function=post_processing_function,\n",
    "        compute_metrics=compute_metrics,\n",
    "    )\n",
    "\n",
    "    logger.info(\"*** Evaluate ***\")\n",
    "\n",
    "    #### eval dataset & eval example - predictions.json 생성됨\n",
    "    if training_args.do_predict:\n",
    "        predictions = trainer.predict(\n",
    "            test_dataset=eval_dataset, test_examples=datasets[\"validation\"]\n",
    "        )\n",
    "\n",
    "        # predictions.json 은 postprocess_qa_predictions() 호출시 이미 저장됩니다.\n",
    "        print(\n",
    "            \"No metric can be presented because there is no correct answer given. Job done!\"\n",
    "        )\n",
    "\n",
    "    if training_args.do_eval:\n",
    "        metrics = trainer.evaluate()\n",
    "        metrics[\"eval_samples\"] = len(eval_dataset)\n",
    "\n",
    "        trainer.log_metrics(\"test\", metrics)\n",
    "        trainer.save_metrics(\"test\", metrics)"
   ]
  },
  {
   "cell_type": "code",
   "execution_count": null,
   "metadata": {},
   "outputs": [],
   "source": [
    "run_mrc(data_args, training_args, model_args, datasets, tokenizer, model)"
   ]
  },
  {
   "cell_type": "code",
   "execution_count": null,
   "metadata": {},
   "outputs": [],
   "source": [
    "import argparse\n",
    "import json\n",
    "import os\n",
    "import time\n",
    "from subprocess import Popen, PIPE, STDOUT\n",
    "\n",
    "from datasets import load_from_disk\n",
    "from elasticsearch import Elasticsearch\n",
    "# from prepare_dataset import make_custom_dataset # ?\n",
    "from torch.utils.data import DataLoader, TensorDataset\n",
    "from tqdm import tqdm"
   ]
  },
  {
   "cell_type": "code",
   "execution_count": null,
   "metadata": {},
   "outputs": [],
   "source": [
    "path_to_elastic = '/opt/ml/code/elasticsearch-7.9.2/bin/elasticsearch'\n",
    "es_server = Popen([path_to_elastic],\n",
    "                stdout=PIPE, stderr=STDOUT,\n",
    "                preexec_fn=lambda: os.setuid(1)  # as daemon\n",
    "                )\n",
    "!sleep 30\n",
    "\n",
    "config = {'host':'localhost', 'port':9200}\n",
    "es = Elasticsearch([config])\n",
    "\n",
    "index_config = {\n",
    "    \"settings\": {\n",
    "        \"analysis\": {\n",
    "            \"filter\":{\n",
    "                \"my_stop_filter\": {\n",
    "                    \"type\" : \"stop\",\n",
    "                    \"stopwords_path\" : \"user_dic/my_stop_dic.txt\"\n",
    "                }\n",
    "            },\n",
    "            \"analyzer\": {\n",
    "                \"nori_analyzer\": {\n",
    "                    \"type\": \"custom\",\n",
    "                    \"tokenizer\": \"nori_tokenizer\",\n",
    "                    \"decompound_mode\": \"mixed\",\n",
    "                    \"filter\" : [\"my_stop_filter\"]\n",
    "                }\n",
    "            }\n",
    "        },\n",
    "        'similarity':{\n",
    "            'my_similarity':{\n",
    "                'type':'BM25',\n",
    "            }\n",
    "        }\n",
    "    },\n",
    "    \"mappings\": {\n",
    "        \"dynamic\": \"strict\", \n",
    "        \"properties\": {\n",
    "            \"document_text\": {\"type\": \"text\", \"analyzer\": \"nori_analyzer\"}\n",
    "            }\n",
    "        }\n",
    "    }\n",
    "\n",
    "print('elastic serach ping :', es.ping())\n",
    "print(es.indices.create(index='wiki-index', body=index_config, ignore=400))"
   ]
  },
  {
   "cell_type": "code",
   "execution_count": null,
   "metadata": {},
   "outputs": [],
   "source": [
    "# if not os.path.isfile(\"../data/preprocess_train.pkl\") :\n",
    "    #     make_custom_dataset(\"../data/preprocess_train.pkl\")\n",
    "#     train_file = load_from_disk(\"../data/train_dataset\")[\"train\"]\n",
    "#     validation_file = load_from_disk(\"../data/train_dataset\")[\"validation\"]\n",
    "train_file = load_from_disk(\"../data/train_dataset\")[\"train\"]\n",
    "validation_file = load_from_disk(\"../data/train_dataset\")[\"validation\"]\n",
    "\n",
    "#[wiki-index, wiki-index-split-400, wiki-index-split-800, wiki-index-split-1000]\n",
    "\n",
    "dataset_path = \"../data/wikipedia_documents.json\"\n",
    "    \n",
    "# if not os.path.isfile(dataset_path) :\n",
    "#     print(dataset_path)\n",
    "#     make_custom_dataset(dataset_path)\n",
    "\n",
    "with open(dataset_path, \"r\") as f:\n",
    "    wiki = json.load(f)\n",
    "wiki_contexts = list(dict.fromkeys([v['text'] for v in wiki.values()]))\n",
    "\n",
    "qa_records = [{\"example_id\" : train_file[i][\"id\"], \"document_title\" : train_file[i][\"title\"], \"question_text\" : train_file[i][\"question\"], \"answer\" : train_file[i][\"answers\"]} for i in range(len(train_file))]\n",
    "wiki_articles = [{\"document_text\" : wiki_contexts[i]} for i in range(len(wiki_contexts))]"
   ]
  },
  {
   "cell_type": "code",
   "execution_count": null,
   "metadata": {},
   "outputs": [],
   "source": [
    "# qa_records"
   ]
  },
  {
   "cell_type": "code",
   "execution_count": null,
   "metadata": {},
   "outputs": [],
   "source": [
    "# wiki_articles"
   ]
  },
  {
   "cell_type": "code",
   "execution_count": null,
   "metadata": {},
   "outputs": [],
   "source": [
    "import time\n",
    "\n",
    "def set_datas() :\n",
    "    # if not os.path.isfile(\"../data/preprocess_train.pkl\") :\n",
    "    #     make_custom_dataset(\"../data/preprocess_train.pkl\")\n",
    "#     train_file = load_from_disk(\"../data/train_dataset\")[\"train\"]\n",
    "#     validation_file = load_from_disk(\"../data/train_dataset\")[\"validation\"]\n",
    "    train_file = load_from_disk(\"../data/train_dataset\")[\"train\"]\n",
    "    validation_file = load_from_disk(\"../data/train_dataset\")[\"validation\"]\n",
    "\n",
    "    #[wiki-index, wiki-index-split-400, wiki-index-split-800, wiki-index-split-1000]\n",
    "    \n",
    "    dataset_path = \"../data/wikipedia_documents.json\"\n",
    "        \n",
    "    # if not os.path.isfile(dataset_path) :\n",
    "    #     print(dataset_path)\n",
    "    #     make_custom_dataset(dataset_path)\n",
    "\n",
    "    with open(dataset_path, \"r\") as f:\n",
    "        wiki = json.load(f)\n",
    "    wiki_contexts = list(dict.fromkeys([v['text'] for v in wiki.values()]))\n",
    "\n",
    "    qa_records = [{\"example_id\" : train_file[i][\"id\"], \"document_title\" : train_file[i][\"title\"], \"question_text\" : train_file[i][\"question\"], \"answer\" : train_file[i][\"answers\"]} for i in range(len(train_file))]\n",
    "    wiki_articles = [{\"document_text\" : wiki_contexts[i]} for i in range(len(wiki_contexts))]\n",
    "    return qa_records, wiki_articles\n",
    "\n",
    "\n",
    "def set_index_and_server() :\n",
    "    path_to_elastic = '/opt/ml/code/elasticsearch-7.9.2/bin/elasticsearch'\n",
    "    es_server = Popen([path_to_elastic],\n",
    "                    stdout=PIPE, stderr=STDOUT,\n",
    "                    preexec_fn=lambda: os.setuid(1)  # as daemon\n",
    "                    )\n",
    "    time.sleep(30)\n",
    "\n",
    "    config = {'host':'localhost', 'port':9200}\n",
    "    es = Elasticsearch([config])\n",
    "\n",
    "    index_config = {\n",
    "        \"settings\": {\n",
    "            \"analysis\": {\n",
    "                \"filter\":{\n",
    "                    \"my_stop_filter\": {\n",
    "                        \"type\" : \"stop\",\n",
    "                        \"stopwords_path\" : \"user_dic/my_stop_dic.txt\"\n",
    "                    }\n",
    "                },\n",
    "                \"analyzer\": {\n",
    "                    \"nori_analyzer\": {\n",
    "                        \"type\": \"custom\",\n",
    "                        \"tokenizer\": \"nori_tokenizer\",\n",
    "                        \"decompound_mode\": \"mixed\",\n",
    "                        \"filter\" : [\"my_stop_filter\"]\n",
    "                    }\n",
    "                }\n",
    "            },\n",
    "            'similarity':{\n",
    "                'my_similarity':{\n",
    "                    'type':'BM25',\n",
    "                }\n",
    "            }\n",
    "        },\n",
    "        \"mappings\": {\n",
    "            \"dynamic\": \"strict\", \n",
    "            \"properties\": {\n",
    "                \"document_text\": {\"type\": \"text\", \"analyzer\": \"nori_analyzer\"}\n",
    "                }\n",
    "            }\n",
    "        }\n",
    "\n",
    "    print('elastic serach ping :', es.ping())\n",
    "    print(es.indices.create(index='wiki-index', body=index_config, ignore=400))\n",
    "    return es\n"
   ]
  },
  {
   "cell_type": "code",
   "execution_count": null,
   "metadata": {},
   "outputs": [],
   "source": [
    "_, wiki_articles = set_datas()\n",
    "es = set_index_and_server()\n",
    "es"
   ]
  },
  {
   "cell_type": "code",
   "execution_count": null,
   "metadata": {},
   "outputs": [],
   "source": [
    "def populate_index(es_obj, index_name, evidence_corpus):\n",
    "\n",
    "    for i, rec in enumerate(tqdm(evidence_corpus)):\n",
    "        try:\n",
    "            index_status = es_obj.index(index=index_name, id=i, body=rec)\n",
    "        except:\n",
    "            print(f'Unable to load document {i}.')\n",
    "            \n",
    "    n_records = es_obj.count(index=index_name)['count']\n",
    "    print(f'Succesfully loaded {n_records} into {index_name}')"
   ]
  },
  {
   "cell_type": "code",
   "execution_count": null,
   "metadata": {},
   "outputs": [],
   "source": [
    "\n"
   ]
  },
  {
   "cell_type": "code",
   "execution_count": null,
   "metadata": {},
   "outputs": [],
   "source": []
  }
 ],
 "metadata": {
  "interpreter": {
   "hash": "d4d1e4263499bec80672ea0156c357c1ee493ec2b1c70f0acce89fc37c4a6abe"
  },
  "kernelspec": {
   "display_name": "Python 3.8.5 64-bit ('base': conda)",
   "name": "python3"
  },
  "language_info": {
   "codemirror_mode": {
    "name": "ipython",
    "version": 3
   },
   "file_extension": ".py",
   "mimetype": "text/x-python",
   "name": "python",
   "nbconvert_exporter": "python",
   "pygments_lexer": "ipython3",
   "version": "3.8.5"
  }
 },
 "nbformat": 4,
 "nbformat_minor": 5
}
