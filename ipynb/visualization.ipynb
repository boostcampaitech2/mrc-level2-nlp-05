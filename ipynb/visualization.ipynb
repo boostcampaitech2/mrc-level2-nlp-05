{
 "cells": [
  {
   "cell_type": "code",
   "execution_count": 2,
   "metadata": {},
   "outputs": [],
   "source": [
    "import numpy as np\n",
    "import pandas as pd\n",
    "import matplotlib as mpl\n",
    "import matplotlib.pyplot as plt\n",
    "\n",
    "from IPython.core.display import display, HTML\n",
    "\n",
    "from datasets import load_metric, load_from_disk, Dataset, DatasetDict"
   ]
  },
  {
   "cell_type": "markdown",
   "metadata": {},
   "source": [
    "## Wikipedia Dataset\n",
    "\n",
    "* `domain`이 `None`으로 비워져 있음\n",
    "\n",
    "* 대용량의 데이터를 효과적으로 classification하여 retrieve할 수 있도록 하는 구조 필요"
   ]
  },
  {
   "cell_type": "code",
   "execution_count": 2,
   "metadata": {},
   "outputs": [],
   "source": [
    "wiki = pd.read_json(\"../data/wikipedia_documents.json\").T"
   ]
  },
  {
   "cell_type": "code",
   "execution_count": 3,
   "metadata": {},
   "outputs": [
    {
     "data": {
      "text/html": [
       "<div>\n",
       "<style scoped>\n",
       "    .dataframe tbody tr th:only-of-type {\n",
       "        vertical-align: middle;\n",
       "    }\n",
       "\n",
       "    .dataframe tbody tr th {\n",
       "        vertical-align: top;\n",
       "    }\n",
       "\n",
       "    .dataframe thead th {\n",
       "        text-align: right;\n",
       "    }\n",
       "</style>\n",
       "<table border=\"1\" class=\"dataframe\">\n",
       "  <thead>\n",
       "    <tr style=\"text-align: right;\">\n",
       "      <th></th>\n",
       "      <th>text</th>\n",
       "      <th>corpus_source</th>\n",
       "      <th>url</th>\n",
       "      <th>domain</th>\n",
       "      <th>title</th>\n",
       "      <th>author</th>\n",
       "      <th>html</th>\n",
       "      <th>document_id</th>\n",
       "    </tr>\n",
       "  </thead>\n",
       "  <tbody>\n",
       "    <tr>\n",
       "      <th>0</th>\n",
       "      <td>이 문서는 나라 목록이며, 전 세계 206개 나라의 각 현황과 주권 승인 정보를 개...</td>\n",
       "      <td>위키피디아</td>\n",
       "      <td>TODO</td>\n",
       "      <td>None</td>\n",
       "      <td>나라 목록</td>\n",
       "      <td>None</td>\n",
       "      <td>None</td>\n",
       "      <td>0</td>\n",
       "    </tr>\n",
       "    <tr>\n",
       "      <th>1</th>\n",
       "      <td>이 목록에 실린 국가 기준은 1933년 몬테비데오 협약 1장을 참고로 하였다. 협정...</td>\n",
       "      <td>위키피디아</td>\n",
       "      <td>TODO</td>\n",
       "      <td>None</td>\n",
       "      <td>나라 목록</td>\n",
       "      <td>None</td>\n",
       "      <td>None</td>\n",
       "      <td>1</td>\n",
       "    </tr>\n",
       "    <tr>\n",
       "      <th>2</th>\n",
       "      <td>현 서울특별시 종로구 서린동 (구 일제 강점기 경기도 경성부 서린정) 출신이다. 친...</td>\n",
       "      <td>위키피디아</td>\n",
       "      <td>TODO</td>\n",
       "      <td>None</td>\n",
       "      <td>백남준</td>\n",
       "      <td>None</td>\n",
       "      <td>None</td>\n",
       "      <td>2</td>\n",
       "    </tr>\n",
       "    <tr>\n",
       "      <th>3</th>\n",
       "      <td>아오조라 문고(靑空文庫, あおぞらぶんこ|아오조라 분고)는 ‘일본어판 구텐베르크 프로...</td>\n",
       "      <td>위키피디아</td>\n",
       "      <td>TODO</td>\n",
       "      <td>None</td>\n",
       "      <td>아오조라 문고</td>\n",
       "      <td>None</td>\n",
       "      <td>None</td>\n",
       "      <td>3</td>\n",
       "    </tr>\n",
       "    <tr>\n",
       "      <th>4</th>\n",
       "      <td>저자 사망 이후 50년이 지나 저작권이 소멸한 메이지 시대부터 쇼와 시대 초기까지의...</td>\n",
       "      <td>위키피디아</td>\n",
       "      <td>TODO</td>\n",
       "      <td>None</td>\n",
       "      <td>아오조라 문고</td>\n",
       "      <td>None</td>\n",
       "      <td>None</td>\n",
       "      <td>4</td>\n",
       "    </tr>\n",
       "  </tbody>\n",
       "</table>\n",
       "</div>"
      ],
      "text/plain": [
       "                                                text corpus_source   url  \\\n",
       "0  이 문서는 나라 목록이며, 전 세계 206개 나라의 각 현황과 주권 승인 정보를 개...         위키피디아  TODO   \n",
       "1  이 목록에 실린 국가 기준은 1933년 몬테비데오 협약 1장을 참고로 하였다. 협정...         위키피디아  TODO   \n",
       "2  현 서울특별시 종로구 서린동 (구 일제 강점기 경기도 경성부 서린정) 출신이다. 친...         위키피디아  TODO   \n",
       "3  아오조라 문고(靑空文庫, あおぞらぶんこ|아오조라 분고)는 ‘일본어판 구텐베르크 프로...         위키피디아  TODO   \n",
       "4  저자 사망 이후 50년이 지나 저작권이 소멸한 메이지 시대부터 쇼와 시대 초기까지의...         위키피디아  TODO   \n",
       "\n",
       "  domain    title author  html document_id  \n",
       "0   None    나라 목록   None  None           0  \n",
       "1   None    나라 목록   None  None           1  \n",
       "2   None      백남준   None  None           2  \n",
       "3   None  아오조라 문고   None  None           3  \n",
       "4   None  아오조라 문고   None  None           4  "
      ]
     },
     "execution_count": 3,
     "metadata": {},
     "output_type": "execute_result"
    }
   ],
   "source": [
    "wiki.head()"
   ]
  },
  {
   "cell_type": "code",
   "execution_count": 4,
   "metadata": {},
   "outputs": [
    {
     "data": {
      "text/html": [
       "<div>\n",
       "<style scoped>\n",
       "    .dataframe tbody tr th:only-of-type {\n",
       "        vertical-align: middle;\n",
       "    }\n",
       "\n",
       "    .dataframe tbody tr th {\n",
       "        vertical-align: top;\n",
       "    }\n",
       "\n",
       "    .dataframe thead th {\n",
       "        text-align: right;\n",
       "    }\n",
       "</style>\n",
       "<table border=\"1\" class=\"dataframe\">\n",
       "  <thead>\n",
       "    <tr style=\"text-align: right;\">\n",
       "      <th></th>\n",
       "      <th>text</th>\n",
       "      <th>corpus_source</th>\n",
       "      <th>url</th>\n",
       "      <th>domain</th>\n",
       "      <th>title</th>\n",
       "      <th>author</th>\n",
       "      <th>html</th>\n",
       "      <th>document_id</th>\n",
       "    </tr>\n",
       "  </thead>\n",
       "  <tbody>\n",
       "    <tr>\n",
       "      <th>count</th>\n",
       "      <td>60613</td>\n",
       "      <td>60613</td>\n",
       "      <td>4554</td>\n",
       "      <td>0</td>\n",
       "      <td>60613</td>\n",
       "      <td>0</td>\n",
       "      <td>0</td>\n",
       "      <td>60613</td>\n",
       "    </tr>\n",
       "    <tr>\n",
       "      <th>unique</th>\n",
       "      <td>56737</td>\n",
       "      <td>1</td>\n",
       "      <td>1</td>\n",
       "      <td>0</td>\n",
       "      <td>31755</td>\n",
       "      <td>0</td>\n",
       "      <td>0</td>\n",
       "      <td>60613</td>\n",
       "    </tr>\n",
       "    <tr>\n",
       "      <th>top</th>\n",
       "      <td>세계보건기구(WHO)는 12일 2019년 12월 31일 처음 WHO의 주목을 받았던...</td>\n",
       "      <td>위키피디아</td>\n",
       "      <td>TODO</td>\n",
       "      <td>NaN</td>\n",
       "      <td>장면</td>\n",
       "      <td>NaN</td>\n",
       "      <td>NaN</td>\n",
       "      <td>60612</td>\n",
       "    </tr>\n",
       "    <tr>\n",
       "      <th>freq</th>\n",
       "      <td>40</td>\n",
       "      <td>60613</td>\n",
       "      <td>4554</td>\n",
       "      <td>NaN</td>\n",
       "      <td>146</td>\n",
       "      <td>NaN</td>\n",
       "      <td>NaN</td>\n",
       "      <td>1</td>\n",
       "    </tr>\n",
       "  </tbody>\n",
       "</table>\n",
       "</div>"
      ],
      "text/plain": [
       "                                                     text corpus_source   url  \\\n",
       "count                                               60613         60613  4554   \n",
       "unique                                              56737             1     1   \n",
       "top     세계보건기구(WHO)는 12일 2019년 12월 31일 처음 WHO의 주목을 받았던...         위키피디아  TODO   \n",
       "freq                                                   40         60613  4554   \n",
       "\n",
       "       domain  title author html  document_id  \n",
       "count       0  60613      0    0        60613  \n",
       "unique      0  31755      0    0        60613  \n",
       "top       NaN     장면    NaN  NaN        60612  \n",
       "freq      NaN    146    NaN  NaN            1  "
      ]
     },
     "execution_count": 4,
     "metadata": {},
     "output_type": "execute_result"
    }
   ],
   "source": [
    "wiki.describe()"
   ]
  },
  {
   "cell_type": "markdown",
   "metadata": {},
   "source": [
    "### Title count\n",
    "\n",
    "* 총 `60613`개 데이터\n",
    "\n",
    "* `31755`개의 `title` unique 값들 중에서 `20018`개가 1개만 존재 (63.0%)\n",
    "\n",
    "* 2개 이상 중복해서 존재하는 레이블의 수가 상당 (37.0%)\n",
    "\n",
    "* `장면`이 146개로 가장 많았다.\n",
    "\n",
    "    * 연속된 글이 별도의 id로 나눠진 것으로 추츨된다.\n",
    "\n",
    "    * `장면`의 상위 5개 글을 출력해봤을 때 서로 다른 글이 출력된다.\n",
    "\n",
    "    * 과연 어떠한 방식으로 글을 추출해야 하는가에 대한 고민 필요... 동일한 `title`을 합칠 필요성?"
   ]
  },
  {
   "cell_type": "code",
   "execution_count": 5,
   "metadata": {},
   "outputs": [
    {
     "data": {
      "text/plain": [
       "장면                       146\n",
       "윤치호                      144\n",
       "여운형                       96\n",
       "데카메론의 줄거리                 68\n",
       "루트비히 판 베토벤                66\n",
       "                        ... \n",
       "빨갱이                        1\n",
       "아르튀르 랭보                    1\n",
       "아르투르 타이마조프                 1\n",
       "아나 피델리아 키로트                1\n",
       "백자 청화운룡문 병 (보물 제785호)      1\n",
       "Name: title, Length: 31755, dtype: int64"
      ]
     },
     "execution_count": 5,
     "metadata": {},
     "output_type": "execute_result"
    }
   ],
   "source": [
    "title_count = wiki['title'].value_counts()\n",
    "title_count"
   ]
  },
  {
   "cell_type": "code",
   "execution_count": 6,
   "metadata": {},
   "outputs": [
    {
     "name": "stdout",
     "output_type": "stream",
     "text": [
      "20018\n",
      "0.6303889151314753\n"
     ]
    }
   ],
   "source": [
    "print(np.sum(title_count == 1))\n",
    "print(np.sum(title_count == 1)/len(title_count))"
   ]
  },
  {
   "cell_type": "code",
   "execution_count": 7,
   "metadata": {},
   "outputs": [
    {
     "data": {
      "text/plain": [
       "(array([8.738e+03, 2.298e+03, 5.290e+02, 1.310e+02, 3.400e+01, 5.000e+00]),\n",
       " array([1, 2, 3, 4, 5, 6, 7]),\n",
       " <BarContainer object of 6 artists>)"
      ]
     },
     "execution_count": 7,
     "metadata": {},
     "output_type": "execute_result"
    },
    {
     "data": {
      "image/png": "[encoded data removed]",
      "text/plain": [
       "<Figure size 432x288 with 1 Axes>"
      ]
     },
     "metadata": {
      "needs_background": "light"
     },
     "output_type": "display_data"
    }
   ],
   "source": [
    "title_count = wiki['title'].value_counts()\n",
    "plt.hist(np.log2(title_count[title_count > 1]), bins=np.arange(1, 8))"
   ]
  },
  {
   "cell_type": "code",
   "execution_count": 8,
   "metadata": {},
   "outputs": [
    {
     "name": "stdout",
     "output_type": "stream",
     "text": [
      "그는 지난날 일제 강점기의 교육자·종교가·번역가·출판인·문인·저술가였으며 훗날 대한민국의 종교가·외교관·교육자·정치인이었다. 1956년 8월 15일부터 1960년 4월 25일까지  대한민국의 제4대 부통령이었다. 1950년 11월 23일부터 1952년 4월 23일까지 제2대 대한민국 국무총리를, 1960년 8월 19일부터 1961년 5월 17일까지 제7대 국무총리를 역임했다.\n",
      "\n",
      "초명은 장지태(張志兑), 아호(雅號)는 운석(雲石), 세례명은 요한(Johan), 영문명은 John Myeon Jang·존 면(John Myeon), 일본식 이름은 다마오카 쓰토무(玉岡 勉).\n",
      "\n",
      "서울 종로에서 태어났다. 일제 강점기에는 천주교 선교 사목 활동과 언론 활동, 용산신학교, 동성상업고등학교, 계성국민학교, 혜화유치원 등에서 교편을 잡았고, 광복 이후 정계에 투신하여 1946년 민주의원 의원, 1947년 남조선과도입법위원회 의원, 1948년 대한민국의 제헌 국회의원  에 당선되었으며, 1948년 12월 7일부터 12월 12일까지 프랑스 파리에서 열리는 제3차 UN 총회에 한국대표단 수석대표로 파견되어 국제사회에 대한민국 정부의 승인을 얻어냈다.\n",
      "\n",
      "1948년 제3차 UN 총회 한국 대표단 수석대표와 1951년 10월 제6차 UN 총회 파견 수석대표로 다녀왔으며, 대통령 바티칸특사를 거쳐 제1대 주미 한국대사 등을 지내고 1950년 한국 전쟁 당시 미국군과 UN군의 한국전 참전을 호소하여 성사시켰다. 1950년 8월과 9월 UN 안보리에서 ‘한국 전쟁은 내전이며 미국과 남한의 북침’이라는 소련 측의 주장을 논파하기도 하였다.\n",
      "\n",
      "1946년 과도입법의원 의원 재직 중에는 국대안(국립대학교 설치안)을 발의하여 성사시켰고, 공창제 폐지를 주창하여 가결시켰다. 1948년 UN 총회에 대한민국의 승인을 요청하는 한국 대표단의 수석대표로 회의에 참석하여 국제사회에 대한민국 정부의 승인을 얻어냈고, 한국 전쟁 때는 UN과 국제사회에 대한민국을 도와줄 것을 호소하여 지원을 이끌어냈다. 호헌동지회의 조직과 민주당 결성에 참여하였다. 군사정권에 실각한 이후 1990년대부터 재평가 여론이 나타나고 있으며 1999년 건국공로훈장 대한민국장이 추서되었다.\n",
      "\n",
      "1966년 6월 4일에 자신의 거주지 대한민국 서울특별시 종로구 명륜동에서 간장염과 당뇨병의 합병증으로 인하여 66세로 급서한 장면은 청렴하고 깨끗한 정치가라는 평가가 자자했다 그의 본관은 인동(仁同)으로 초명(初名)은 장지태(張志兑), 호는 운석(雲石)이다. 종교는 천주교로서 세례명은 ‘요한’(John)이며, 따라서 장 요한으로도 불리고, 장면 스스로도 영문명은 존 면(John Myeon)이라 했다. 일제 강점기의 창씨개명은 ‘다마오카 쓰토무’(玉岡 勉|)이다. 한성부에서 출생하였고 지난날 한때 평안남도 중화에서 잠시 유아기를 보낸 적이 있으며 그 후 경기도 인천에서 성장하였다.\n"
     ]
    }
   ],
   "source": [
    "query_title = \"장면\"\n",
    "\n",
    "subset = wiki.loc[wiki['title'] == query_title, ]\n",
    "for idx, row in subset.iterrows():\n",
    "    print(row['text'])\n",
    "    if idx > 5:\n",
    "        break"
   ]
  },
  {
   "cell_type": "markdown",
   "metadata": {},
   "source": [
    "## Train & Validation Set\n",
    "\n",
    "* `datasets` 모듈은 huggingface에서 제공하는 데이터셋 모음집\n",
    "\n",
    "* `pandas` 형태가 아니라 `DatasetDict`이라는 형태의 dictionary로 불러옴\n",
    "\n",
    "* 코드의 형태대로 불러오면 `datasets.arrow_dataset.Dataset` 클래스로 확인되는데, 이것이 무엇인지는 확인할 필요"
   ]
  },
  {
   "cell_type": "code",
   "execution_count": 3,
   "metadata": {},
   "outputs": [],
   "source": [
    "datasets = load_from_disk(\"../data/train_dataset\")"
   ]
  },
  {
   "cell_type": "code",
   "execution_count": 4,
   "metadata": {},
   "outputs": [
    {
     "data": {
      "text/plain": [
       "DatasetDict({\n",
       "    train: Dataset({\n",
       "        features: ['__index_level_0__', 'answers', 'context', 'document_id', 'id', 'question', 'title'],\n",
       "        num_rows: 3952\n",
       "    })\n",
       "    validation: Dataset({\n",
       "        features: ['__index_level_0__', 'answers', 'context', 'document_id', 'id', 'question', 'title'],\n",
       "        num_rows: 240\n",
       "    })\n",
       "})"
      ]
     },
     "execution_count": 4,
     "metadata": {},
     "output_type": "execute_result"
    }
   ],
   "source": [
    "datasets"
   ]
  },
  {
   "cell_type": "code",
   "execution_count": 5,
   "metadata": {},
   "outputs": [
    {
     "data": {
      "text/plain": [
       "datasets.arrow_dataset.Dataset"
      ]
     },
     "execution_count": 5,
     "metadata": {},
     "output_type": "execute_result"
    }
   ],
   "source": [
    "type(datasets['train'])"
   ]
  },
  {
   "cell_type": "code",
   "execution_count": 31,
   "metadata": {},
   "outputs": [],
   "source": [
    "def highlight(txt: str, start_idx: int = 0, end_idx: int = -1, color: str = '#96C4ED') -> str:\n",
    "    if start_idx == 0 and end_idx == -1:\n",
    "        return f\"<span style='color:{color}'>{txt}</span>\"\n",
    "    elif end_idx == -1:\n",
    "        return f\"{txt[:start_idx]}<span style='color:{color}'>{txt[start_idx:]}</span>\"\n",
    "    else:\n",
    "        return f\"{txt[:start_idx]}<span style='color:{color}'>{txt[start_idx:end_idx+1]}</span>{txt[end_idx+1:]}\""
   ]
  },
  {
   "cell_type": "code",
   "execution_count": 36,
   "metadata": {},
   "outputs": [
    {
     "data": {
      "text/html": [
       "<span style='color:#13CC33'>128: </span><span style='color:#B19CD9'>시네마토그래프 유료 상영회가 개최된 날은?</span></br>뤼미에르 형제가 초창기에 찍었던 여느 영화와 마찬가지로, 영사기와 촬영기를 겸한 시네마토그래프로 촬영하였으며, 35mm 필름에 화면비는 1.33:1로 제작되었다. <span style='color:#96C4ED'>1895년 12월 28일</span> 프랑스 파리의 카푸신 대로 14번지 그랑 카페에서 뤼미에르 형제가 처음으로 선보인 시네마토그래프 유료 상영회에서 선보였던 단편 영화 10편 중 하나이기도 하다. 하지만 이 작품은 그에 앞서 개인 상영회로도 선보인 영상이며, 1895년 6월 12일에 처음 공개된 것으로 기록되어 있다.\\n\\n영상에는 강변을 배경으로 배에서 하역하는 사람들의 모습이 담겼다. 남녀 가릴 것 없이 하나씩 삼각대, 카메라, 박스 따위의 사진 장비를 옮기고 있는데 이들은 사진학회 소속 사진가들이다. 자신이 촬영되고 있다는 것을 인지했는지 어떤 사람은 카메라 쪽으로 모자를 흔들어 보이기도 하고, 그저 촬영하는 사람을 보고 지나가는 사람들도 있다. 뤼미에르가 새로 개발한 시네마토그래프의 모습이 신기했는지 대단한 시선을 끌고 있는 모습인데, 소형카메라를 들고 있던 어떤 남성은 시네마토그래프를 찍고 지나가기도 한다.\\n\\n이 영화는 프랑스 론주의 뇌빌쉬르손에서 촬영되었으며, 루이 뤼미에르 본인과 피에르 장센이 직접 출연하는 것으로도 유명하다. 뤼미에르의 모든 작품과 마찬가지로 촬영된 지 100년이 넘은 영화인 만큼 퍼블릭 도메인으로 저작권이 소멸되었기에 유튜브 등지의 인터넷상에서 감상할 수 있다.</br><span style='color:#13CC33'>314: </span><span style='color:#B19CD9'>기록상 여권을 가장 오래전에 사용한 인물은?</span></br>여권에 대한 가장 오래된 기록 가운데 하나는 타나크이다. 이 경전의 느헤미야서 2장 7절에서 9절까지의 기사에는 기원전 450년 경 페르시아 제국 시기 아르타세르세스 1세의 신하였던 <span style='color:#96C4ED'>느헤미야</span>가 유대로 여행하겠다고 청하자 왕이 \"강을 넘어서도 효력을 발휘하는\" 문서를 작성하여 주었다는 내용이 적혀있다. \\n\\n중세 아랍 제국에서는 세금을 납부하였다는 것을 증명하는 영수증인 \"바라아\"가 여권을 대신하였다. 당시 아랍 제국에서는 시민만이 세금을 내었기 때문이다. 무슬림은 자카트를 납부하였고 딤미는 지즈야를 납부하였다. 따라서 바라아를 지니고 있다는 것은 곧 아랍 제국의 시민임을 뜻했고 여권의 역할을 하였다. \\n\\n중세 유럽에서는 항구나 도시의 성문을 통과할 때 신분증명서를 요구받았고 그것에는 소지자가 여행한 도시나 항구들의 목록이 적혀있었다. 자국의 시민이 외국을 여행하는 동안의 안전을 위해 국가가 신분을 증명하는 근대적 의미의 여권을 처음으로 시행한 사람은 잉글랜드의 헨리 5세이다. \\n\\n19세기 중반 유럽에서 기차 여행이 시작되자 이전에 비해 너무 많은 사람들이 빠른 속도로 수많은 국경을 지나가는 일이 빈번해지자 국가마다 서로 다른 이전의 여권법으로는 도저히 감당할 수 없는 지경에 이르렀고, 유럽은 보편화된 여권법을 마련하게 되었다. \\n\\n사진이 널리 전파되자 여권에도 사진을 부착하는 것이 일반화되었다. 제1차 세계대전 기간 동안 유럽의 각국은 보안상의 이유와 인력의 관리를 위해 출입국심사 절차를 만들었고, 이는 표준 절차가 되어 전쟁 이후에도 유지되었다. 한편 1920년대의 영국인들은 여권에 사진과 신체 특징을 표기하는 것을 \"비인간적 처사\"로 여겼다. \\n\\n1920년 국제 연맹은 여권의 발급 표준에 대한 회원국의 총의를 이끌어 내었다. 이 여권 표준은 1926년 개정되었다. \\n\\n1963년 유엔은 새로운 여권 발급 표준에 대해 토의하였으나 총의를 도출하는데 실패하였다. 그 후 1980년에 이르러 국제민간항공기구가 지원하는 가운데 새로운 여권 발급 표준에 대한 총의가 형성되었다.</br><span style='color:#13CC33'>1364: </span><span style='color:#B19CD9'>교황 요한 바오로 2세는 카마라 대주교와 함께 누가 인간다운 삶을 살 수 있도록 도왔는가?</span></br>하지만 동 에우데르 카마라 대주교가 사회복지사업으로는 가난이 해결되지 않는다는 것을 알게 되는 것은 그렇게 오랜 시간이 걸리지 않았다. '브라질 사회는 국민의 10퍼센트밖에 안 되는 부자들은 독일의 32배나 되는 넓은 토지를 차지하는 반면에, 대다수의 민중들은 소작인도 아닌 농업노동자로 전락해서 비참하게 살아가는 매우 평등하지 못한 사회'라는 것을 사회선교를 하면서 깨달은 것이다. 하지만 미국등의 다국적 기업들과 결탁한 군사독재정권과 언론은 이러한 현실에 전혀 관심이 없었다. 더 부끄러운 사실은 교회가 부자와 권력자들과 결탁하여, 예언자적인 목소리를 전혀 내지 않고 있다는 것이었다. 그래서 카마라 대주교는 가난은 하느님의 창조질서에 어긋나는 것이며, <span style='color:#96C4ED'>민중들</span>이 인간으로서의 최소한의 삶과 인권을 존중받으면서 사는 세상을 만드는 것이 복음화라는 자신의 신학을 실천하기 위해 사회선교에 헌신하였다. 교황 요한 바오로 2세도 브라질 북동부 올린다와 레시페 교구의 대주교로 임명하여 카마라 대주교의 사회선교를 도왔다.</br><span style='color:#13CC33'>462: </span><span style='color:#B19CD9'>김성태 원내대표에 의하면 대한민국과의 외교 관계를 끊는다고 언급했던 인물은 누구인가?</span></br>초기에는 임종석의 대북 접촉설도 제기되었으나, 차츰 관련 정황이 드러나면서 대한민국과 아랍에미리트 간에 외교 갈등 의혹이 불거졌다 최초 청와대는 문재인 대통령을 대신해 우리 장병들을 격려하기 위한 것이라고 설명하였으나, 석연치 않은 점이 많자 정치권에서 본격적으로 의혹을 제기하였다 자유한국당 김성태 원내대표는 문재인 정부가 이명박 정부의 원전 수주와 관련해 금전 거래가 있었던 것처럼 들쑤시고 다니자, <span style='color:#96C4ED'>UAE 왕세제</span>가 국교 단절까지 거론하며 격렬히 비난하였고, 이를 수습하기 위해 임종석이 달려갔다는 얘기가 있다고 주장하였다\\n\\n김태영 전 국방부장관은 이명박 정부 때 아랍에미리트(UAE)와 원전 수주 계약을 맺으면서 유사시 군사 개입을 약속하는 비밀 군사협정이 있었다고 털어놨다. 이후 이명박 정부의 비밀협정 체결 논란으로 발전하면서 자유한국당은 대정부공세를 더 이상 벌이지 못 하고 거꾸로 수세에 몰렸으며, 국민의당과 야권공조도 이루어지지 못 했다. \\n\\n김종대 정의당 의원은 'UAE 유사시 군 자동개입'에 대해 “이걸 인계철선이라고 한다. 한미상호방위조약에도 자동개입 조항은 없다”며 “보통 이런 정도의 국군파병이나 이런 상호방위협정을 맺을 때는 이건 헌법에서 중대한 안전보장에 영향이 크기 때문에 반드시 조약으로 체결해 국회의 비준을 받으라고 되어 있다”고 협정의 위법성을 지적했다.</br><span style='color:#13CC33'>2642: </span><span style='color:#B19CD9'>안나 네다의 오빠는 어느 나라의 임금인가?</span></br>콘스탄틴 티흐의 길지만 성공적이지 못한 치세 동안 불가리아 제국은 콘스탄틴 티흐의 근거지였던 스코페를 포함한 북부 마케도니아 지역을 비잔티움 제국에 상실하였다. 두 제국은 내외적으로 심각한 문제에 봉착하였고 1280년대 이후 세르비아가 남진하여 북부 마케도니아로 팽창하였다.\\n\\n비잔티움 제국의 안드로니코스 2세와 그의 야심가 손자 안드로니코스 3세의 내전 기간(1320-1328) 동안 <span style='color:#96C4ED'>세르비아</span>의 왕 스테판 우로시 3세 데찬스키는 안드로니코스 2세를 지원하는 과정에서 마케도니아의 몇몇 지역을 점령하였다. 1328년 이후 안드로니코스 3세가 승리하고 그의 할아버지를 폐위시켰고, 세르비아와 비잔티움의 관계는 악화되었다. 반면에 불가리아의 미하일 시슈만은 이전의 1324년에 미하일 시슈만은 데찬스키의 누이인 안나 네다와 이혼하고 안드로니코스 3세의 누이인 테오도라와 결혼하면서 안드로니코스 3세를 지원하였다. 이 시기 동안 세르비아는 프로세크와 프릴레프와 같은 중요한 마을을 점령하였고 1329년에는 오흐리드를 포위하였다. \\n\\n비잔티움과 불가리아는 급속도로 성장하는 세르비아를 우려하면서 1327년 5월 13일 반-세르비아 평화 조약을 체결했다. 1329년 미하일 시슈만과 안드로니코스 3세가 다시 만난 뒤 두 군주는 세르비아를 공격하기로 결정했다. 미하일 시슈만은 세르비아에 대한 공동 군사 작전을 준비했다. 미하일 시슈만은 세르비아가 이전에 점령한 북동부와 남동부의 불가리아 땅을 되찾고자 했다. 그 계획은 세르비아의 절멸과 불가리아와 비잔티움의 분할을 포함하였다. 몇몇 세르비아 연대기에 의하면 그는 세르비아 왕에게 복종을 요구하면서 \"세르비아 땅 한복판에 자신의 왕좌를 세울것이다\"라고 위협하였다.\\n\\n양측은 전쟁 준비에 착수하였다. 미하일 시슈만은 그의 동맹인 왈라키아의 바사라브와 오세티아, 몽골군에게 지원을 요청했고 이는 총합 3,000명 정도였다. 미하일 시슈만의 군대는 대략 12,000명 정도로 추정된다. 데찬스키는 에스파냐와 독일의 용병들을 각각 1,000명씩 고용하여 그의 군대를 강화하였고 세르비아의 정예병까지 포함해 총합 18,000명 정도였다.</br>"
      ],
      "text/plain": [
       "<IPython.core.display.HTML object>"
      ]
     },
     "metadata": {},
     "output_type": "display_data"
    }
   ],
   "source": [
    "output = \"\"\n",
    "N = 5\n",
    "indices = np.random.choice(len(datasets['train']), size=N, replace=False)\n",
    "\n",
    "for i in indices:\n",
    "\n",
    "    item = datasets['train'][int(i)]\n",
    "\n",
    "    start_idx = int(item['answers']['answer_start'][0])\n",
    "    end_idx = start_idx + len(item['answers']['text'][0]) - 1\n",
    "\n",
    "    output += highlight(str(i) + \": \", color = \"#13CC33\") + highlight(item['question'], color=\"#B19CD9\") + \"</br>\"\n",
    "    output += highlight(item['context'], start_idx, end_idx) + \"</br>\"\n",
    "\n",
    "display(HTML(output))"
   ]
  },
  {
   "cell_type": "code",
   "execution_count": 33,
   "metadata": {},
   "outputs": [],
   "source": [
    "context_len = []\n",
    "answer_text = []\n",
    "answer_start = []\n",
    "for item in datasets['train']:\n",
    "    context_len.append(len(item['context']))\n",
    "    answer_start.append(item['answers']['answer_start'][0])\n",
    "    answer_text.append(item['answers']['text'])\n",
    "context_len = np.array(context_len)\n",
    "answer_start = np.array(answer_start)\n",
    "answer_len = np.array([len(text) for text in answer_text])"
   ]
  },
  {
   "cell_type": "code",
   "execution_count": 34,
   "metadata": {},
   "outputs": [
    {
     "data": {
      "text/plain": [
       "(array([1356., 1022.,  784.,  425.,  171.,   96.,   51.,   26.,   13.,\n",
       "           8.]),\n",
       " array([   0. ,  197.4,  394.8,  592.2,  789.6,  987. , 1184.4, 1381.8,\n",
       "        1579.2, 1776.6, 1974. ]),\n",
       " <BarContainer object of 10 artists>)"
      ]
     },
     "execution_count": 34,
     "metadata": {},
     "output_type": "execute_result"
    },
    {
     "data": {
      "image/png": "[encoded data removed]",
      "text/plain": [
       "<Figure size 432x288 with 1 Axes>"
      ]
     },
     "metadata": {
      "needs_background": "light"
     },
     "output_type": "display_data"
    }
   ],
   "source": [
    "plt.hist(answer_start)"
   ]
  },
  {
   "cell_type": "code",
   "execution_count": 35,
   "metadata": {},
   "outputs": [
    {
     "data": {
      "text/plain": [
       "(array([1139.,  854.,  654.,  398.,  284.,  217.,  130.,  111.,   77.,\n",
       "          88.]),\n",
       " array([ 512. ,  666.7,  821.4,  976.1, 1130.8, 1285.5, 1440.2, 1594.9,\n",
       "        1749.6, 1904.3, 2059. ]),\n",
       " <BarContainer object of 10 artists>)"
      ]
     },
     "execution_count": 35,
     "metadata": {},
     "output_type": "execute_result"
    },
    {
     "data": {
      "image/png": "[encoded data removed]",
      "text/plain": [
       "<Figure size 432x288 with 1 Axes>"
      ]
     },
     "metadata": {
      "needs_background": "light"
     },
     "output_type": "display_data"
    }
   ],
   "source": [
    "plt.hist(context_len)"
   ]
  },
  {
   "cell_type": "code",
   "execution_count": 36,
   "metadata": {},
   "outputs": [],
   "source": [
    "answer_relative_position = answer_start/context_len"
   ]
  },
  {
   "cell_type": "code",
   "execution_count": 40,
   "metadata": {},
   "outputs": [
    {
     "data": {
      "text/plain": [
       "(array([594., 555., 499., 420., 371., 365., 309., 309., 288., 242.]),\n",
       " array([0.        , 0.09915966, 0.19831933, 0.29747899, 0.39663866,\n",
       "        0.49579832, 0.59495798, 0.69411765, 0.79327731, 0.89243697,\n",
       "        0.99159664]),\n",
       " <BarContainer object of 10 artists>)"
      ]
     },
     "execution_count": 40,
     "metadata": {},
     "output_type": "execute_result"
    },
    {
     "data": {
      "image/png": "[encoded data removed]",
      "text/plain": [
       "<Figure size 432x288 with 1 Axes>"
      ]
     },
     "metadata": {
      "needs_background": "light"
     },
     "output_type": "display_data"
    }
   ],
   "source": [
    "plt.hist(answer_relative_position)"
   ]
  },
  {
   "cell_type": "code",
   "execution_count": 41,
   "metadata": {},
   "outputs": [
    {
     "data": {
      "text/plain": [
       "<matplotlib.collections.PathCollection at 0x7f593b277e50>"
      ]
     },
     "execution_count": 41,
     "metadata": {},
     "output_type": "execute_result"
    },
    {
     "data": {
      "image/png": "[encoded data removed]",
      "text/plain": [
       "<Figure size 432x288 with 1 Axes>"
      ]
     },
     "metadata": {
      "needs_background": "light"
     },
     "output_type": "display_data"
    }
   ],
   "source": [
    "plt.scatter(context_len, answer_start)"
   ]
  },
  {
   "cell_type": "code",
   "execution_count": 42,
   "metadata": {},
   "outputs": [
    {
     "data": {
      "text/plain": [
       "<matplotlib.collections.PathCollection at 0x7f584efd2bb0>"
      ]
     },
     "execution_count": 42,
     "metadata": {},
     "output_type": "execute_result"
    },
    {
     "data": {
      "image/png": "[encoded data removed]",
      "text/plain": [
       "<Figure size 432x288 with 1 Axes>"
      ]
     },
     "metadata": {
      "needs_background": "light"
     },
     "output_type": "display_data"
    }
   ],
   "source": [
    "plt.scatter(context_len, answer_relative_position)"
   ]
  },
  {
   "cell_type": "code",
   "execution_count": null,
   "metadata": {},
   "outputs": [],
   "source": []
  }
 ],
 "metadata": {
  "interpreter": {
   "hash": "d4d1e4263499bec80672ea0156c357c1ee493ec2b1c70f0acce89fc37c4a6abe"
  },
  "kernelspec": {
   "display_name": "Python 3.8.5 64-bit ('base': conda)",
   "name": "python3"
  },
  "language_info": {
   "codemirror_mode": {
    "name": "ipython",
    "version": 3
   },
   "file_extension": ".py",
   "mimetype": "text/x-python",
   "name": "python",
   "nbconvert_exporter": "python",
   "pygments_lexer": "ipython3",
   "version": "3.8.5"
  }
 },
 "nbformat": 4,
 "nbformat_minor": 4
}
