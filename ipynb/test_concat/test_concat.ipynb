{
 "cells": [
  {
   "cell_type": "markdown",
   "metadata": {},
   "source": [
    "## 기존 코드에서 concat_context_logits()을 제거하고 수정했을 때 동일한 결과를 내는지 확인해보자."
   ]
  },
  {
   "cell_type": "code",
   "execution_count": 5,
   "metadata": {},
   "outputs": [],
   "source": [
    "import pickle\n",
    "import numpy as np"
   ]
  },
  {
   "cell_type": "code",
   "execution_count": 6,
   "metadata": {},
   "outputs": [],
   "source": [
    "# 저장할 때 append를 해서 load는 while not EOF로 해야함\n",
    "\n",
    "original = []\n",
    "with open(\"./original.pickle\", \"rb\") as openfile:\n",
    "    while True:\n",
    "        try:\n",
    "           original.append(pickle.load(openfile))\n",
    "        except EOFError:\n",
    "            break\n",
    "\n",
    "\n",
    "modified = []\n",
    "with open(\"./modified.pickle\", \"rb\") as openfile:\n",
    "    while True:\n",
    "        try:\n",
    "            modified.append(pickle.load(openfile))\n",
    "        except EOFError:\n",
    "            break"
   ]
  },
  {
   "cell_type": "code",
   "execution_count": 7,
   "metadata": {},
   "outputs": [
    {
     "name": "stdout",
     "output_type": "stream",
     "text": [
      "(3, 2, 474, 384)\n",
      "(3, 2, 474, 384)\n",
      "364032\n"
     ]
    }
   ],
   "source": [
    "# np로 변환\n",
    "original = np.array(original)\n",
    "modified = np.array(modified)\n",
    "\n",
    "print(original.shape)  # (3, 2, 474, 384): iter, start & end, dataset length, token num\n",
    "print(modified.shape)  # (3, 2, 474, 384)\n",
    "\n",
    "sample_o = original[0]\n",
    "sample_m = modified[0]\n",
    "\n",
    "# 모든 원소가 동일한지 확인\n",
    "print(np.sum(sample_o == sample_m))  # 364032 == 2 * 474 * 384"
   ]
  },
  {
   "cell_type": "code",
   "execution_count": null,
   "metadata": {},
   "outputs": [],
   "source": []
  }
 ],
 "metadata": {
  "interpreter": {
   "hash": "d4d1e4263499bec80672ea0156c357c1ee493ec2b1c70f0acce89fc37c4a6abe"
  },
  "kernelspec": {
   "display_name": "Python 3.8.5 64-bit ('base': conda)",
   "name": "python3"
  },
  "language_info": {
   "codemirror_mode": {
    "name": "ipython",
    "version": 3
   },
   "file_extension": ".py",
   "mimetype": "text/x-python",
   "name": "python",
   "nbconvert_exporter": "python",
   "pygments_lexer": "ipython3",
   "version": "3.8.5"
  },
  "orig_nbformat": 4
 },
 "nbformat": 4,
 "nbformat_minor": 2
}
