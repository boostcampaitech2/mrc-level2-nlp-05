{
 "cells": [
  {
   "cell_type": "code",
   "execution_count": 30,
   "metadata": {},
   "outputs": [],
   "source": [
    "import pandas as pd\n",
    "import json\n",
    "import os\n",
    "\n",
    "\n",
    "\n",
    "def get_merge_df(file, folder='./predictions'):\n",
    "    with open(os.path.join(folder, file), 'r', encoding='utf-8') as f:\n",
    "        pred_json = json.load(f)\n",
    "\n",
    "    pred_data = [{'id': k, 'pred_answer_text': v} for k, v in pred_json.items()]\n",
    "    pred_df = pd.DataFrame(pred_data)\n",
    "\n",
    "    answer_df = pd.read_csv('./test_dataset_with_answer.csv')\n",
    "\n",
    "    merge_df = pd.merge(pred_df, answer_df, how='inner', on='id')\n",
    "    merge_df = merge_df.loc[merge_df['answer_text'] != 'none', :]\n",
    "\n",
    "    return merge_df\n",
    "\n",
    "\n",
    "def clean_text(text):\n",
    "    #text = text.strip()\n",
    "    return text\n",
    "\n",
    "def calc_em(file):\n",
    "    \"\"\"\n",
    "    실제 정답이 여러 개인 경우 예측 정답이 실제 정답 중 하나라도 포함되면 맞춘 것으로 평가 진행\n",
    "    em이 높게 나오는 경향이 있음\n",
    "    \"\"\"\n",
    "    merge_df = get_merge_df(file)\n",
    "\n",
    "    correct_result = []\n",
    "    for i, row in merge_df.iterrows():\n",
    "        pred_answer = clean_text(row['pred_answer_text'])\n",
    "        ground_truth = [clean_text(text) for  text in eval(row['answer_text'])]\n",
    "        correct_result.append(pred_answer in ground_truth)\n",
    "\n",
    "    em = sum(correct_result)/len(correct_result) * 100\n",
    "\n",
    "    return f\"{em:.3f}\"\n",
    "\n",
    "def calc_em_2(file):\n",
    "    \"\"\"\n",
    "    실제 정답이 한 개인 경우에 대해서만 평가 진행\n",
    "    calc_em 보다는 em이 낮게 나옴\n",
    "    실제 제출 시의 em보다는 2~7 정도 높게 나옴\n",
    "    \"\"\"\n",
    "    merge_df = get_merge_df(file)\n",
    "    merge_df = merge_df.loc[merge_df['answer_cnt'] == 1, :]\n",
    "    \n",
    "    correct_result = []\n",
    "    for i, row in merge_df.iterrows():\n",
    "        pred_answer = clean_text(row['pred_answer_text'])\n",
    "        ground_truth = [clean_text(text) for  text in eval(row['answer_text'])]\n",
    "        correct_result.append(pred_answer in ground_truth)\n",
    "\n",
    "    em = sum(correct_result)/len(correct_result) * 100\n",
    "\n",
    "    return f\"{em:.3f}\""
   ]
  },
  {
   "cell_type": "code",
   "execution_count": 17,
   "metadata": {},
   "outputs": [
    {
     "data": {
      "text/plain": [
       "'69.053'"
      ]
     },
     "execution_count": 17,
     "metadata": {},
     "output_type": "execute_result"
    }
   ],
   "source": [
    "calc_em('predictions_60.830_권혜빈.json')"
   ]
  },
  {
   "cell_type": "code",
   "execution_count": 18,
   "metadata": {},
   "outputs": [
    {
     "data": {
      "text/plain": [
       "'67.368'"
      ]
     },
     "execution_count": 18,
     "metadata": {},
     "output_type": "execute_result"
    }
   ],
   "source": [
    "calc_em('predictions_60.830_김제우.json')"
   ]
  },
  {
   "cell_type": "code",
   "execution_count": 19,
   "metadata": {},
   "outputs": [
    {
     "data": {
      "text/plain": [
       "'66.105'"
      ]
     },
     "execution_count": 19,
     "metadata": {},
     "output_type": "execute_result"
    }
   ],
   "source": [
    "calc_em('predictions_60.000_김민진.json')"
   ]
  },
  {
   "cell_type": "code",
   "execution_count": 26,
   "metadata": {},
   "outputs": [
    {
     "data": {
      "text/plain": [
       "'67.069'"
      ]
     },
     "execution_count": 26,
     "metadata": {},
     "output_type": "execute_result"
    }
   ],
   "source": [
    "calc_em_2('predictions_60.830_권혜빈.json')"
   ]
  },
  {
   "cell_type": "code",
   "execution_count": 27,
   "metadata": {},
   "outputs": [
    {
     "data": {
      "text/plain": [
       "'64.955'"
      ]
     },
     "execution_count": 27,
     "metadata": {},
     "output_type": "execute_result"
    }
   ],
   "source": [
    "calc_em_2('predictions_60.830_김제우.json')"
   ]
  },
  {
   "cell_type": "code",
   "execution_count": 25,
   "metadata": {},
   "outputs": [
    {
     "data": {
      "text/plain": [
       "'62.236'"
      ]
     },
     "execution_count": 25,
     "metadata": {},
     "output_type": "execute_result"
    }
   ],
   "source": [
    "calc_em_2('predictions_60.000_김민진.json')"
   ]
  },
  {
   "cell_type": "code",
   "execution_count": 31,
   "metadata": {},
   "outputs": [
    {
     "data": {
      "text/plain": [
       "'63.142'"
      ]
     },
     "execution_count": 31,
     "metadata": {},
     "output_type": "execute_result"
    }
   ],
   "source": [
    "calc_em_2('predictions_59.580_권혜빈.json')"
   ]
  },
  {
   "cell_type": "code",
   "execution_count": null,
   "metadata": {},
   "outputs": [],
   "source": []
  }
 ],
 "metadata": {
  "interpreter": {
   "hash": "d4d1e4263499bec80672ea0156c357c1ee493ec2b1c70f0acce89fc37c4a6abe"
  },
  "kernelspec": {
   "display_name": "Python 3.8.5 64-bit ('base': conda)",
   "name": "python3"
  },
  "language_info": {
   "codemirror_mode": {
    "name": "ipython",
    "version": 3
   },
   "file_extension": ".py",
   "mimetype": "text/x-python",
   "name": "python",
   "nbconvert_exporter": "python",
   "pygments_lexer": "ipython3",
   "version": "3.8.5"
  },
  "orig_nbformat": 4
 },
 "nbformat": 4,
 "nbformat_minor": 2
}
